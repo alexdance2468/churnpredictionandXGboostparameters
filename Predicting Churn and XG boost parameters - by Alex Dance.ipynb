{
 "cells": [
  {
   "cell_type": "markdown",
   "metadata": {
    "colab_type": "text",
    "id": "jZSSKjAWXd3j"
   },
   "source": [
    "<div>\n",
    "<img src=https://miro.medium.com/max/1400/1*jIKGJBTFpF4yVADTtldyKg.jpeg width=\"300\">\n",
    "</div>"
   ]
  },
  {
   "cell_type": "markdown",
   "metadata": {
    "colab_type": "text",
    "id": "twocr7v8Xd3l"
   },
   "source": [
    "## Predicting Churn and XG Boost Parameters\n"
   ]
  },
  {
   "cell_type": "code",
   "execution_count": 1,
   "metadata": {
    "colab": {},
    "colab_type": "code",
    "id": "hejYh49cXd3n"
   },
   "outputs": [],
   "source": [
    "import pandas as pd\n",
    "import numpy as np\n",
    "import pandas as pd\n",
    "import sklearn.metrics\n",
    "import matplotlib.pyplot as plt\n",
    "\n",
    "from sklearn.model_selection import train_test_split\n",
    "from sklearn import svm, metrics\n",
    "from sklearn.metrics import confusion_matrix\n",
    "from xgboost import plot_importance, plot_tree\n",
    "\n",
    "%matplotlib inline"
   ]
  },
  {
   "cell_type": "code",
   "execution_count": 2,
   "metadata": {},
   "outputs": [],
   "source": [
    "class color:  # Testing to make the heading look a liitle more impressive\n",
    "   BOLD = '\\033[1m'"
   ]
  },
  {
   "cell_type": "code",
   "execution_count": 3,
   "metadata": {},
   "outputs": [],
   "source": [
    "df = pd.read_csv('C:/Users/alexd/Alex Folder 1/Mini Project 3/WA_Fn-UseC_-Telco-Customer-Churn.csv')\n",
    "dfbackup = df.copy()"
   ]
  },
  {
   "cell_type": "code",
   "execution_count": 4,
   "metadata": {},
   "outputs": [],
   "source": [
    "# original data set that is NOT used\n",
    "#names = [\"Recency\", \"Frequency\", \"Monetary\", \"Time\", \"Donated\"]\n",
    "#df_transfusion = pd.read_csv('C:/Users/alexd/Alex Folder 1/Module 7/transfusion2.data',header=None, names=names)"
   ]
  },
  {
   "cell_type": "code",
   "execution_count": 5,
   "metadata": {},
   "outputs": [
    {
     "name": "stdout",
     "output_type": "stream",
     "text": [
      "<class 'pandas.core.frame.DataFrame'>\n",
      "RangeIndex: 7043 entries, 0 to 7042\n",
      "Data columns (total 21 columns):\n",
      " #   Column            Non-Null Count  Dtype  \n",
      "---  ------            --------------  -----  \n",
      " 0   customerID        7043 non-null   object \n",
      " 1   gender            7043 non-null   object \n",
      " 2   SeniorCitizen     7043 non-null   int64  \n",
      " 3   Partner           7043 non-null   object \n",
      " 4   Dependents        7043 non-null   object \n",
      " 5   tenure            7043 non-null   int64  \n",
      " 6   PhoneService      7043 non-null   object \n",
      " 7   MultipleLines     7043 non-null   object \n",
      " 8   InternetService   7043 non-null   object \n",
      " 9   OnlineSecurity    7043 non-null   object \n",
      " 10  OnlineBackup      7043 non-null   object \n",
      " 11  DeviceProtection  7043 non-null   object \n",
      " 12  TechSupport       7043 non-null   object \n",
      " 13  StreamingTV       7043 non-null   object \n",
      " 14  StreamingMovies   7043 non-null   object \n",
      " 15  Contract          7043 non-null   object \n",
      " 16  PaperlessBilling  7043 non-null   object \n",
      " 17  PaymentMethod     7043 non-null   object \n",
      " 18  MonthlyCharges    7043 non-null   float64\n",
      " 19  TotalCharges      7043 non-null   object \n",
      " 20  Churn             7043 non-null   object \n",
      "dtypes: float64(1), int64(2), object(18)\n",
      "memory usage: 1.1+ MB\n"
     ]
    }
   ],
   "source": [
    "dfbackup.info()"
   ]
  },
  {
   "cell_type": "code",
   "execution_count": 6,
   "metadata": {},
   "outputs": [
    {
     "data": {
      "text/plain": [
       "(7043, 21)"
      ]
     },
     "execution_count": 6,
     "metadata": {},
     "output_type": "execute_result"
    }
   ],
   "source": [
    "dfbackup.shape"
   ]
  },
  {
   "cell_type": "code",
   "execution_count": 7,
   "metadata": {},
   "outputs": [
    {
     "data": {
      "text/html": [
       "<div>\n",
       "<style scoped>\n",
       "    .dataframe tbody tr th:only-of-type {\n",
       "        vertical-align: middle;\n",
       "    }\n",
       "\n",
       "    .dataframe tbody tr th {\n",
       "        vertical-align: top;\n",
       "    }\n",
       "\n",
       "    .dataframe thead th {\n",
       "        text-align: right;\n",
       "    }\n",
       "</style>\n",
       "<table border=\"1\" class=\"dataframe\">\n",
       "  <thead>\n",
       "    <tr style=\"text-align: right;\">\n",
       "      <th></th>\n",
       "      <th>customerID</th>\n",
       "      <th>gender</th>\n",
       "      <th>SeniorCitizen</th>\n",
       "      <th>Partner</th>\n",
       "      <th>Dependents</th>\n",
       "      <th>tenure</th>\n",
       "      <th>PhoneService</th>\n",
       "      <th>MultipleLines</th>\n",
       "      <th>InternetService</th>\n",
       "      <th>OnlineSecurity</th>\n",
       "      <th>...</th>\n",
       "      <th>DeviceProtection</th>\n",
       "      <th>TechSupport</th>\n",
       "      <th>StreamingTV</th>\n",
       "      <th>StreamingMovies</th>\n",
       "      <th>Contract</th>\n",
       "      <th>PaperlessBilling</th>\n",
       "      <th>PaymentMethod</th>\n",
       "      <th>MonthlyCharges</th>\n",
       "      <th>TotalCharges</th>\n",
       "      <th>Churn</th>\n",
       "    </tr>\n",
       "  </thead>\n",
       "  <tbody>\n",
       "    <tr>\n",
       "      <th>0</th>\n",
       "      <td>7590-VHVEG</td>\n",
       "      <td>Female</td>\n",
       "      <td>0</td>\n",
       "      <td>Yes</td>\n",
       "      <td>No</td>\n",
       "      <td>1</td>\n",
       "      <td>No</td>\n",
       "      <td>No phone service</td>\n",
       "      <td>DSL</td>\n",
       "      <td>No</td>\n",
       "      <td>...</td>\n",
       "      <td>No</td>\n",
       "      <td>No</td>\n",
       "      <td>No</td>\n",
       "      <td>No</td>\n",
       "      <td>Month-to-month</td>\n",
       "      <td>Yes</td>\n",
       "      <td>Electronic check</td>\n",
       "      <td>29.85</td>\n",
       "      <td>29.85</td>\n",
       "      <td>No</td>\n",
       "    </tr>\n",
       "    <tr>\n",
       "      <th>1</th>\n",
       "      <td>5575-GNVDE</td>\n",
       "      <td>Male</td>\n",
       "      <td>0</td>\n",
       "      <td>No</td>\n",
       "      <td>No</td>\n",
       "      <td>34</td>\n",
       "      <td>Yes</td>\n",
       "      <td>No</td>\n",
       "      <td>DSL</td>\n",
       "      <td>Yes</td>\n",
       "      <td>...</td>\n",
       "      <td>Yes</td>\n",
       "      <td>No</td>\n",
       "      <td>No</td>\n",
       "      <td>No</td>\n",
       "      <td>One year</td>\n",
       "      <td>No</td>\n",
       "      <td>Mailed check</td>\n",
       "      <td>56.95</td>\n",
       "      <td>1889.5</td>\n",
       "      <td>No</td>\n",
       "    </tr>\n",
       "    <tr>\n",
       "      <th>2</th>\n",
       "      <td>3668-QPYBK</td>\n",
       "      <td>Male</td>\n",
       "      <td>0</td>\n",
       "      <td>No</td>\n",
       "      <td>No</td>\n",
       "      <td>2</td>\n",
       "      <td>Yes</td>\n",
       "      <td>No</td>\n",
       "      <td>DSL</td>\n",
       "      <td>Yes</td>\n",
       "      <td>...</td>\n",
       "      <td>No</td>\n",
       "      <td>No</td>\n",
       "      <td>No</td>\n",
       "      <td>No</td>\n",
       "      <td>Month-to-month</td>\n",
       "      <td>Yes</td>\n",
       "      <td>Mailed check</td>\n",
       "      <td>53.85</td>\n",
       "      <td>108.15</td>\n",
       "      <td>Yes</td>\n",
       "    </tr>\n",
       "    <tr>\n",
       "      <th>3</th>\n",
       "      <td>7795-CFOCW</td>\n",
       "      <td>Male</td>\n",
       "      <td>0</td>\n",
       "      <td>No</td>\n",
       "      <td>No</td>\n",
       "      <td>45</td>\n",
       "      <td>No</td>\n",
       "      <td>No phone service</td>\n",
       "      <td>DSL</td>\n",
       "      <td>Yes</td>\n",
       "      <td>...</td>\n",
       "      <td>Yes</td>\n",
       "      <td>Yes</td>\n",
       "      <td>No</td>\n",
       "      <td>No</td>\n",
       "      <td>One year</td>\n",
       "      <td>No</td>\n",
       "      <td>Bank transfer (automatic)</td>\n",
       "      <td>42.30</td>\n",
       "      <td>1840.75</td>\n",
       "      <td>No</td>\n",
       "    </tr>\n",
       "    <tr>\n",
       "      <th>4</th>\n",
       "      <td>9237-HQITU</td>\n",
       "      <td>Female</td>\n",
       "      <td>0</td>\n",
       "      <td>No</td>\n",
       "      <td>No</td>\n",
       "      <td>2</td>\n",
       "      <td>Yes</td>\n",
       "      <td>No</td>\n",
       "      <td>Fiber optic</td>\n",
       "      <td>No</td>\n",
       "      <td>...</td>\n",
       "      <td>No</td>\n",
       "      <td>No</td>\n",
       "      <td>No</td>\n",
       "      <td>No</td>\n",
       "      <td>Month-to-month</td>\n",
       "      <td>Yes</td>\n",
       "      <td>Electronic check</td>\n",
       "      <td>70.70</td>\n",
       "      <td>151.65</td>\n",
       "      <td>Yes</td>\n",
       "    </tr>\n",
       "  </tbody>\n",
       "</table>\n",
       "<p>5 rows × 21 columns</p>\n",
       "</div>"
      ],
      "text/plain": [
       "   customerID  gender  SeniorCitizen Partner Dependents  tenure PhoneService  \\\n",
       "0  7590-VHVEG  Female              0     Yes         No       1           No   \n",
       "1  5575-GNVDE    Male              0      No         No      34          Yes   \n",
       "2  3668-QPYBK    Male              0      No         No       2          Yes   \n",
       "3  7795-CFOCW    Male              0      No         No      45           No   \n",
       "4  9237-HQITU  Female              0      No         No       2          Yes   \n",
       "\n",
       "      MultipleLines InternetService OnlineSecurity  ... DeviceProtection  \\\n",
       "0  No phone service             DSL             No  ...               No   \n",
       "1                No             DSL            Yes  ...              Yes   \n",
       "2                No             DSL            Yes  ...               No   \n",
       "3  No phone service             DSL            Yes  ...              Yes   \n",
       "4                No     Fiber optic             No  ...               No   \n",
       "\n",
       "  TechSupport StreamingTV StreamingMovies        Contract PaperlessBilling  \\\n",
       "0          No          No              No  Month-to-month              Yes   \n",
       "1          No          No              No        One year               No   \n",
       "2          No          No              No  Month-to-month              Yes   \n",
       "3         Yes          No              No        One year               No   \n",
       "4          No          No              No  Month-to-month              Yes   \n",
       "\n",
       "               PaymentMethod MonthlyCharges  TotalCharges Churn  \n",
       "0           Electronic check          29.85         29.85    No  \n",
       "1               Mailed check          56.95        1889.5    No  \n",
       "2               Mailed check          53.85        108.15   Yes  \n",
       "3  Bank transfer (automatic)          42.30       1840.75    No  \n",
       "4           Electronic check          70.70        151.65   Yes  \n",
       "\n",
       "[5 rows x 21 columns]"
      ]
     },
     "execution_count": 7,
     "metadata": {},
     "output_type": "execute_result"
    }
   ],
   "source": [
    "df.head()"
   ]
  },
  {
   "cell_type": "markdown",
   "metadata": {},
   "source": [
    "# Initial Changes"
   ]
  },
  {
   "cell_type": "code",
   "execution_count": 8,
   "metadata": {},
   "outputs": [],
   "source": [
    "# Initial a few things so made the following initial adjustments"
   ]
  },
  {
   "cell_type": "code",
   "execution_count": 9,
   "metadata": {},
   "outputs": [],
   "source": [
    "mapping = {'Yes':1, 'No':0}\n",
    "df['Churn'] = df['Churn'].map(mapping)\n"
   ]
  },
  {
   "cell_type": "code",
   "execution_count": 10,
   "metadata": {},
   "outputs": [
    {
     "data": {
      "text/plain": [
       "0    5174\n",
       "1    1869\n",
       "Name: Churn, dtype: int64"
      ]
     },
     "execution_count": 10,
     "metadata": {},
     "output_type": "execute_result"
    }
   ],
   "source": [
    "df['Churn'].value_counts()"
   ]
  },
  {
   "cell_type": "markdown",
   "metadata": {},
   "source": [
    "df = pd.get_dummies(data = df, columns = ['gender', 'Partner','Dependents','PhoneService','MultipleLines','InternetService','OnlineSecurity', 'OnlineBackup', 'DeviceProtection', 'Contract',  'PaymentMethod','PaperlessBilling'], prefix = ['gender', 'Partner','Dependents','PhoneService','MultipleLines','InternetService','OnlineSecurity', 'OnlineBackup', 'DeviceProtection', 'Contract',  'PaymentMethod','PaperlessBilling'])"
   ]
  },
  {
   "cell_type": "code",
   "execution_count": 11,
   "metadata": {},
   "outputs": [],
   "source": [
    "df = pd.get_dummies(data = df, columns = ['gender', 'Partner','Dependents','PhoneService','MultipleLines','InternetService','OnlineSecurity', 'OnlineBackup', 'DeviceProtection', 'Contract',  'PaymentMethod','PaperlessBilling', 'TechSupport',  'StreamingTV', 'StreamingMovies'], prefix =['gender', 'Partner','Dependents','PhoneService','MultipleLines','InternetService','OnlineSecurity', 'OnlineBackup', 'DeviceProtection', 'Contract',  'PaymentMethod','PaperlessBilling', 'TechSupport',  'StreamingTV', 'StreamingMovies'])"
   ]
  },
  {
   "cell_type": "code",
   "execution_count": 12,
   "metadata": {
    "scrolled": true
   },
   "outputs": [
    {
     "data": {
      "text/html": [
       "<div>\n",
       "<style scoped>\n",
       "    .dataframe tbody tr th:only-of-type {\n",
       "        vertical-align: middle;\n",
       "    }\n",
       "\n",
       "    .dataframe tbody tr th {\n",
       "        vertical-align: top;\n",
       "    }\n",
       "\n",
       "    .dataframe thead th {\n",
       "        text-align: right;\n",
       "    }\n",
       "</style>\n",
       "<table border=\"1\" class=\"dataframe\">\n",
       "  <thead>\n",
       "    <tr style=\"text-align: right;\">\n",
       "      <th></th>\n",
       "      <th>customerID</th>\n",
       "      <th>SeniorCitizen</th>\n",
       "      <th>tenure</th>\n",
       "      <th>MonthlyCharges</th>\n",
       "      <th>TotalCharges</th>\n",
       "      <th>Churn</th>\n",
       "      <th>gender_Female</th>\n",
       "      <th>gender_Male</th>\n",
       "      <th>Partner_No</th>\n",
       "      <th>Partner_Yes</th>\n",
       "      <th>...</th>\n",
       "      <th>PaperlessBilling_Yes</th>\n",
       "      <th>TechSupport_No</th>\n",
       "      <th>TechSupport_No internet service</th>\n",
       "      <th>TechSupport_Yes</th>\n",
       "      <th>StreamingTV_No</th>\n",
       "      <th>StreamingTV_No internet service</th>\n",
       "      <th>StreamingTV_Yes</th>\n",
       "      <th>StreamingMovies_No</th>\n",
       "      <th>StreamingMovies_No internet service</th>\n",
       "      <th>StreamingMovies_Yes</th>\n",
       "    </tr>\n",
       "  </thead>\n",
       "  <tbody>\n",
       "    <tr>\n",
       "      <th>0</th>\n",
       "      <td>7590-VHVEG</td>\n",
       "      <td>0</td>\n",
       "      <td>1</td>\n",
       "      <td>29.85</td>\n",
       "      <td>29.85</td>\n",
       "      <td>0</td>\n",
       "      <td>1</td>\n",
       "      <td>0</td>\n",
       "      <td>0</td>\n",
       "      <td>1</td>\n",
       "      <td>...</td>\n",
       "      <td>1</td>\n",
       "      <td>1</td>\n",
       "      <td>0</td>\n",
       "      <td>0</td>\n",
       "      <td>1</td>\n",
       "      <td>0</td>\n",
       "      <td>0</td>\n",
       "      <td>1</td>\n",
       "      <td>0</td>\n",
       "      <td>0</td>\n",
       "    </tr>\n",
       "    <tr>\n",
       "      <th>1</th>\n",
       "      <td>5575-GNVDE</td>\n",
       "      <td>0</td>\n",
       "      <td>34</td>\n",
       "      <td>56.95</td>\n",
       "      <td>1889.5</td>\n",
       "      <td>0</td>\n",
       "      <td>0</td>\n",
       "      <td>1</td>\n",
       "      <td>1</td>\n",
       "      <td>0</td>\n",
       "      <td>...</td>\n",
       "      <td>0</td>\n",
       "      <td>1</td>\n",
       "      <td>0</td>\n",
       "      <td>0</td>\n",
       "      <td>1</td>\n",
       "      <td>0</td>\n",
       "      <td>0</td>\n",
       "      <td>1</td>\n",
       "      <td>0</td>\n",
       "      <td>0</td>\n",
       "    </tr>\n",
       "    <tr>\n",
       "      <th>2</th>\n",
       "      <td>3668-QPYBK</td>\n",
       "      <td>0</td>\n",
       "      <td>2</td>\n",
       "      <td>53.85</td>\n",
       "      <td>108.15</td>\n",
       "      <td>1</td>\n",
       "      <td>0</td>\n",
       "      <td>1</td>\n",
       "      <td>1</td>\n",
       "      <td>0</td>\n",
       "      <td>...</td>\n",
       "      <td>1</td>\n",
       "      <td>1</td>\n",
       "      <td>0</td>\n",
       "      <td>0</td>\n",
       "      <td>1</td>\n",
       "      <td>0</td>\n",
       "      <td>0</td>\n",
       "      <td>1</td>\n",
       "      <td>0</td>\n",
       "      <td>0</td>\n",
       "    </tr>\n",
       "    <tr>\n",
       "      <th>3</th>\n",
       "      <td>7795-CFOCW</td>\n",
       "      <td>0</td>\n",
       "      <td>45</td>\n",
       "      <td>42.30</td>\n",
       "      <td>1840.75</td>\n",
       "      <td>0</td>\n",
       "      <td>0</td>\n",
       "      <td>1</td>\n",
       "      <td>1</td>\n",
       "      <td>0</td>\n",
       "      <td>...</td>\n",
       "      <td>0</td>\n",
       "      <td>0</td>\n",
       "      <td>0</td>\n",
       "      <td>1</td>\n",
       "      <td>1</td>\n",
       "      <td>0</td>\n",
       "      <td>0</td>\n",
       "      <td>1</td>\n",
       "      <td>0</td>\n",
       "      <td>0</td>\n",
       "    </tr>\n",
       "    <tr>\n",
       "      <th>4</th>\n",
       "      <td>9237-HQITU</td>\n",
       "      <td>0</td>\n",
       "      <td>2</td>\n",
       "      <td>70.70</td>\n",
       "      <td>151.65</td>\n",
       "      <td>1</td>\n",
       "      <td>1</td>\n",
       "      <td>0</td>\n",
       "      <td>1</td>\n",
       "      <td>0</td>\n",
       "      <td>...</td>\n",
       "      <td>1</td>\n",
       "      <td>1</td>\n",
       "      <td>0</td>\n",
       "      <td>0</td>\n",
       "      <td>1</td>\n",
       "      <td>0</td>\n",
       "      <td>0</td>\n",
       "      <td>1</td>\n",
       "      <td>0</td>\n",
       "      <td>0</td>\n",
       "    </tr>\n",
       "  </tbody>\n",
       "</table>\n",
       "<p>5 rows × 47 columns</p>\n",
       "</div>"
      ],
      "text/plain": [
       "   customerID  SeniorCitizen  tenure  MonthlyCharges TotalCharges  Churn  \\\n",
       "0  7590-VHVEG              0       1           29.85        29.85      0   \n",
       "1  5575-GNVDE              0      34           56.95       1889.5      0   \n",
       "2  3668-QPYBK              0       2           53.85       108.15      1   \n",
       "3  7795-CFOCW              0      45           42.30      1840.75      0   \n",
       "4  9237-HQITU              0       2           70.70       151.65      1   \n",
       "\n",
       "   gender_Female  gender_Male  Partner_No  Partner_Yes  ...  \\\n",
       "0              1            0           0            1  ...   \n",
       "1              0            1           1            0  ...   \n",
       "2              0            1           1            0  ...   \n",
       "3              0            1           1            0  ...   \n",
       "4              1            0           1            0  ...   \n",
       "\n",
       "   PaperlessBilling_Yes  TechSupport_No  TechSupport_No internet service  \\\n",
       "0                     1               1                                0   \n",
       "1                     0               1                                0   \n",
       "2                     1               1                                0   \n",
       "3                     0               0                                0   \n",
       "4                     1               1                                0   \n",
       "\n",
       "   TechSupport_Yes  StreamingTV_No  StreamingTV_No internet service  \\\n",
       "0                0               1                                0   \n",
       "1                0               1                                0   \n",
       "2                0               1                                0   \n",
       "3                1               1                                0   \n",
       "4                0               1                                0   \n",
       "\n",
       "   StreamingTV_Yes  StreamingMovies_No  StreamingMovies_No internet service  \\\n",
       "0                0                   1                                    0   \n",
       "1                0                   1                                    0   \n",
       "2                0                   1                                    0   \n",
       "3                0                   1                                    0   \n",
       "4                0                   1                                    0   \n",
       "\n",
       "   StreamingMovies_Yes  \n",
       "0                    0  \n",
       "1                    0  \n",
       "2                    0  \n",
       "3                    0  \n",
       "4                    0  \n",
       "\n",
       "[5 rows x 47 columns]"
      ]
     },
     "execution_count": 12,
     "metadata": {},
     "output_type": "execute_result"
    }
   ],
   "source": [
    "df.head()"
   ]
  },
  {
   "cell_type": "code",
   "execution_count": 13,
   "metadata": {},
   "outputs": [],
   "source": [
    "df['TotalCharges'] = pd.to_numeric(df['TotalCharges'],errors='coerce')"
   ]
  },
  {
   "cell_type": "code",
   "execution_count": 14,
   "metadata": {},
   "outputs": [
    {
     "data": {
      "text/plain": [
       "pandas.core.series.Series"
      ]
     },
     "execution_count": 14,
     "metadata": {},
     "output_type": "execute_result"
    }
   ],
   "source": [
    "type(df['MonthlyCharges'])"
   ]
  },
  {
   "cell_type": "code",
   "execution_count": 15,
   "metadata": {},
   "outputs": [],
   "source": [
    "import pandas_profiling"
   ]
  },
  {
   "cell_type": "code",
   "execution_count": 16,
   "metadata": {},
   "outputs": [],
   "source": [
    "#pandas_profiling.ProfileReport(df)"
   ]
  },
  {
   "cell_type": "markdown",
   "metadata": {},
   "source": [
    "# EDA"
   ]
  },
  {
   "cell_type": "code",
   "execution_count": 17,
   "metadata": {},
   "outputs": [
    {
     "data": {
      "text/plain": [
       "0         29.85\n",
       "1       1889.50\n",
       "2        108.15\n",
       "3       1840.75\n",
       "4        151.65\n",
       "         ...   \n",
       "7038    1990.50\n",
       "7039    7362.90\n",
       "7040     346.45\n",
       "7041     306.60\n",
       "7042    6844.50\n",
       "Name: TotalCharges, Length: 7043, dtype: float64"
      ]
     },
     "execution_count": 17,
     "metadata": {},
     "output_type": "execute_result"
    }
   ],
   "source": [
    "df['TotalCharges'] "
   ]
  },
  {
   "cell_type": "code",
   "execution_count": 18,
   "metadata": {},
   "outputs": [
    {
     "data": {
      "text/plain": [
       "20.05     61\n",
       "19.85     45\n",
       "19.95     44\n",
       "19.90     44\n",
       "20.00     43\n",
       "          ..\n",
       "114.75     1\n",
       "103.60     1\n",
       "113.40     1\n",
       "57.65      1\n",
       "113.30     1\n",
       "Name: MonthlyCharges, Length: 1585, dtype: int64"
      ]
     },
     "execution_count": 18,
     "metadata": {},
     "output_type": "execute_result"
    }
   ],
   "source": [
    "df['MonthlyCharges'].value_counts()"
   ]
  },
  {
   "cell_type": "code",
   "execution_count": 19,
   "metadata": {},
   "outputs": [
    {
     "data": {
      "image/png": "[encoded data removed]",
      "text/plain": [
       "<Figure size 576x396 with 1 Axes>"
      ]
     },
     "metadata": {},
     "output_type": "display_data"
    }
   ],
   "source": [
    "import matplotlib.pyplot as plt\n",
    "num_bins = 10\n",
    "plt.title('Monthyl Charges - bins = 10')\n",
    "plt.hist(df['MonthlyCharges'], bins =num_bins)\n",
    "plt.show()\n",
    "\n"
   ]
  },
  {
   "cell_type": "code",
   "execution_count": 20,
   "metadata": {},
   "outputs": [
    {
     "name": "stdout",
     "output_type": "stream",
     "text": [
      "<pandas.core.groupby.generic.DataFrameGroupBy object at 0x000002AB68DDC8C8>\n"
     ]
    }
   ],
   "source": [
    "print(df.groupby(['TotalCharges', 'Churn']))"
   ]
  },
  {
   "cell_type": "code",
   "execution_count": 21,
   "metadata": {},
   "outputs": [
    {
     "data": {
      "text/plain": [
       "gender_Female  Churn\n",
       "0              0        2619\n",
       "               1         930\n",
       "1              0        2544\n",
       "               1         939\n",
       "Name: TotalCharges, dtype: int64"
      ]
     },
     "execution_count": 21,
     "metadata": {},
     "output_type": "execute_result"
    }
   ],
   "source": [
    "df.groupby([\"gender_Female\", \"Churn\"])[\"TotalCharges\"].count()"
   ]
  },
  {
   "cell_type": "code",
   "execution_count": 22,
   "metadata": {},
   "outputs": [
    {
     "data": {
      "text/plain": [
       "Churn\n",
       "0    2555.344141\n",
       "1    1531.796094\n",
       "Name: TotalCharges, dtype: float64"
      ]
     },
     "execution_count": 22,
     "metadata": {},
     "output_type": "execute_result"
    }
   ],
   "source": [
    "df.groupby([\"Churn\"])[\"TotalCharges\"].mean()"
   ]
  },
  {
   "cell_type": "code",
   "execution_count": 23,
   "metadata": {},
   "outputs": [
    {
     "data": {
      "text/plain": [
       "Churn\n",
       "0    37.569965\n",
       "1    17.979133\n",
       "Name: tenure, dtype: float64"
      ]
     },
     "execution_count": 23,
     "metadata": {},
     "output_type": "execute_result"
    }
   ],
   "source": [
    "df.groupby([\"Churn\"])[\"tenure\"].mean()"
   ]
  },
  {
   "cell_type": "code",
   "execution_count": 24,
   "metadata": {},
   "outputs": [
    {
     "data": {
      "text/plain": [
       "Churn\n",
       "0    0.471782\n",
       "1    0.642055\n",
       "Name: Partner_No, dtype: float64"
      ]
     },
     "execution_count": 24,
     "metadata": {},
     "output_type": "execute_result"
    }
   ],
   "source": [
    "df.groupby([\"Churn\"])[\"Partner_No\"].mean()"
   ]
  },
  {
   "cell_type": "code",
   "execution_count": 25,
   "metadata": {},
   "outputs": [
    {
     "data": {
      "text/plain": [
       "<matplotlib.collections.PathCollection at 0x2ab69e12348>"
      ]
     },
     "execution_count": 25,
     "metadata": {},
     "output_type": "execute_result"
    },
    {
     "data": {
      "image/png": "[encoded data removed]",
      "text/plain": [
       "<Figure size 576x396 with 1 Axes>"
      ]
     },
     "metadata": {},
     "output_type": "display_data"
    }
   ],
   "source": [
    "plt.scatter(df['TotalCharges'] , df['MonthlyCharges'])"
   ]
  },
  {
   "cell_type": "code",
   "execution_count": 26,
   "metadata": {},
   "outputs": [
    {
     "name": "stdout",
     "output_type": "stream",
     "text": [
      "<class 'pandas.core.frame.DataFrame'>\n",
      "RangeIndex: 7043 entries, 0 to 7042\n",
      "Data columns (total 47 columns):\n",
      " #   Column                                   Non-Null Count  Dtype  \n",
      "---  ------                                   --------------  -----  \n",
      " 0   customerID                               7043 non-null   object \n",
      " 1   SeniorCitizen                            7043 non-null   int64  \n",
      " 2   tenure                                   7043 non-null   int64  \n",
      " 3   MonthlyCharges                           7043 non-null   float64\n",
      " 4   TotalCharges                             7032 non-null   float64\n",
      " 5   Churn                                    7043 non-null   int64  \n",
      " 6   gender_Female                            7043 non-null   uint8  \n",
      " 7   gender_Male                              7043 non-null   uint8  \n",
      " 8   Partner_No                               7043 non-null   uint8  \n",
      " 9   Partner_Yes                              7043 non-null   uint8  \n",
      " 10  Dependents_No                            7043 non-null   uint8  \n",
      " 11  Dependents_Yes                           7043 non-null   uint8  \n",
      " 12  PhoneService_No                          7043 non-null   uint8  \n",
      " 13  PhoneService_Yes                         7043 non-null   uint8  \n",
      " 14  MultipleLines_No                         7043 non-null   uint8  \n",
      " 15  MultipleLines_No phone service           7043 non-null   uint8  \n",
      " 16  MultipleLines_Yes                        7043 non-null   uint8  \n",
      " 17  InternetService_DSL                      7043 non-null   uint8  \n",
      " 18  InternetService_Fiber optic              7043 non-null   uint8  \n",
      " 19  InternetService_No                       7043 non-null   uint8  \n",
      " 20  OnlineSecurity_No                        7043 non-null   uint8  \n",
      " 21  OnlineSecurity_No internet service       7043 non-null   uint8  \n",
      " 22  OnlineSecurity_Yes                       7043 non-null   uint8  \n",
      " 23  OnlineBackup_No                          7043 non-null   uint8  \n",
      " 24  OnlineBackup_No internet service         7043 non-null   uint8  \n",
      " 25  OnlineBackup_Yes                         7043 non-null   uint8  \n",
      " 26  DeviceProtection_No                      7043 non-null   uint8  \n",
      " 27  DeviceProtection_No internet service     7043 non-null   uint8  \n",
      " 28  DeviceProtection_Yes                     7043 non-null   uint8  \n",
      " 29  Contract_Month-to-month                  7043 non-null   uint8  \n",
      " 30  Contract_One year                        7043 non-null   uint8  \n",
      " 31  Contract_Two year                        7043 non-null   uint8  \n",
      " 32  PaymentMethod_Bank transfer (automatic)  7043 non-null   uint8  \n",
      " 33  PaymentMethod_Credit card (automatic)    7043 non-null   uint8  \n",
      " 34  PaymentMethod_Electronic check           7043 non-null   uint8  \n",
      " 35  PaymentMethod_Mailed check               7043 non-null   uint8  \n",
      " 36  PaperlessBilling_No                      7043 non-null   uint8  \n",
      " 37  PaperlessBilling_Yes                     7043 non-null   uint8  \n",
      " 38  TechSupport_No                           7043 non-null   uint8  \n",
      " 39  TechSupport_No internet service          7043 non-null   uint8  \n",
      " 40  TechSupport_Yes                          7043 non-null   uint8  \n",
      " 41  StreamingTV_No                           7043 non-null   uint8  \n",
      " 42  StreamingTV_No internet service          7043 non-null   uint8  \n",
      " 43  StreamingTV_Yes                          7043 non-null   uint8  \n",
      " 44  StreamingMovies_No                       7043 non-null   uint8  \n",
      " 45  StreamingMovies_No internet service      7043 non-null   uint8  \n",
      " 46  StreamingMovies_Yes                      7043 non-null   uint8  \n",
      "dtypes: float64(2), int64(3), object(1), uint8(41)\n",
      "memory usage: 612.3+ KB\n"
     ]
    }
   ],
   "source": [
    "df.info()"
   ]
  },
  {
   "cell_type": "code",
   "execution_count": 27,
   "metadata": {},
   "outputs": [
    {
     "data": {
      "text/html": [
       "<div>\n",
       "<style scoped>\n",
       "    .dataframe tbody tr th:only-of-type {\n",
       "        vertical-align: middle;\n",
       "    }\n",
       "\n",
       "    .dataframe tbody tr th {\n",
       "        vertical-align: top;\n",
       "    }\n",
       "\n",
       "    .dataframe thead th {\n",
       "        text-align: right;\n",
       "    }\n",
       "</style>\n",
       "<table border=\"1\" class=\"dataframe\">\n",
       "  <thead>\n",
       "    <tr style=\"text-align: right;\">\n",
       "      <th></th>\n",
       "      <th>SeniorCitizen</th>\n",
       "      <th>tenure</th>\n",
       "      <th>MonthlyCharges</th>\n",
       "      <th>TotalCharges</th>\n",
       "      <th>Churn</th>\n",
       "      <th>gender_Female</th>\n",
       "      <th>gender_Male</th>\n",
       "      <th>Partner_No</th>\n",
       "      <th>Partner_Yes</th>\n",
       "      <th>Dependents_No</th>\n",
       "      <th>...</th>\n",
       "      <th>PaperlessBilling_Yes</th>\n",
       "      <th>TechSupport_No</th>\n",
       "      <th>TechSupport_No internet service</th>\n",
       "      <th>TechSupport_Yes</th>\n",
       "      <th>StreamingTV_No</th>\n",
       "      <th>StreamingTV_No internet service</th>\n",
       "      <th>StreamingTV_Yes</th>\n",
       "      <th>StreamingMovies_No</th>\n",
       "      <th>StreamingMovies_No internet service</th>\n",
       "      <th>StreamingMovies_Yes</th>\n",
       "    </tr>\n",
       "  </thead>\n",
       "  <tbody>\n",
       "    <tr>\n",
       "      <th>count</th>\n",
       "      <td>7043.000000</td>\n",
       "      <td>7043.000000</td>\n",
       "      <td>7043.000000</td>\n",
       "      <td>7032.000000</td>\n",
       "      <td>7043.000000</td>\n",
       "      <td>7043.000000</td>\n",
       "      <td>7043.000000</td>\n",
       "      <td>7043.000000</td>\n",
       "      <td>7043.000000</td>\n",
       "      <td>7043.000000</td>\n",
       "      <td>...</td>\n",
       "      <td>7043.000000</td>\n",
       "      <td>7043.000000</td>\n",
       "      <td>7043.000000</td>\n",
       "      <td>7043.000000</td>\n",
       "      <td>7043.000000</td>\n",
       "      <td>7043.000000</td>\n",
       "      <td>7043.000000</td>\n",
       "      <td>7043.000000</td>\n",
       "      <td>7043.000000</td>\n",
       "      <td>7043.000000</td>\n",
       "    </tr>\n",
       "    <tr>\n",
       "      <th>mean</th>\n",
       "      <td>0.162147</td>\n",
       "      <td>32.371149</td>\n",
       "      <td>64.761692</td>\n",
       "      <td>2283.300441</td>\n",
       "      <td>0.265370</td>\n",
       "      <td>0.495244</td>\n",
       "      <td>0.504756</td>\n",
       "      <td>0.516967</td>\n",
       "      <td>0.483033</td>\n",
       "      <td>0.700412</td>\n",
       "      <td>...</td>\n",
       "      <td>0.592219</td>\n",
       "      <td>0.493114</td>\n",
       "      <td>0.216669</td>\n",
       "      <td>0.290217</td>\n",
       "      <td>0.398978</td>\n",
       "      <td>0.216669</td>\n",
       "      <td>0.384353</td>\n",
       "      <td>0.395428</td>\n",
       "      <td>0.216669</td>\n",
       "      <td>0.387903</td>\n",
       "    </tr>\n",
       "    <tr>\n",
       "      <th>std</th>\n",
       "      <td>0.368612</td>\n",
       "      <td>24.559481</td>\n",
       "      <td>30.090047</td>\n",
       "      <td>2266.771362</td>\n",
       "      <td>0.441561</td>\n",
       "      <td>0.500013</td>\n",
       "      <td>0.500013</td>\n",
       "      <td>0.499748</td>\n",
       "      <td>0.499748</td>\n",
       "      <td>0.458110</td>\n",
       "      <td>...</td>\n",
       "      <td>0.491457</td>\n",
       "      <td>0.499988</td>\n",
       "      <td>0.412004</td>\n",
       "      <td>0.453895</td>\n",
       "      <td>0.489723</td>\n",
       "      <td>0.412004</td>\n",
       "      <td>0.486477</td>\n",
       "      <td>0.488977</td>\n",
       "      <td>0.412004</td>\n",
       "      <td>0.487307</td>\n",
       "    </tr>\n",
       "    <tr>\n",
       "      <th>min</th>\n",
       "      <td>0.000000</td>\n",
       "      <td>0.000000</td>\n",
       "      <td>18.250000</td>\n",
       "      <td>18.800000</td>\n",
       "      <td>0.000000</td>\n",
       "      <td>0.000000</td>\n",
       "      <td>0.000000</td>\n",
       "      <td>0.000000</td>\n",
       "      <td>0.000000</td>\n",
       "      <td>0.000000</td>\n",
       "      <td>...</td>\n",
       "      <td>0.000000</td>\n",
       "      <td>0.000000</td>\n",
       "      <td>0.000000</td>\n",
       "      <td>0.000000</td>\n",
       "      <td>0.000000</td>\n",
       "      <td>0.000000</td>\n",
       "      <td>0.000000</td>\n",
       "      <td>0.000000</td>\n",
       "      <td>0.000000</td>\n",
       "      <td>0.000000</td>\n",
       "    </tr>\n",
       "    <tr>\n",
       "      <th>25%</th>\n",
       "      <td>0.000000</td>\n",
       "      <td>9.000000</td>\n",
       "      <td>35.500000</td>\n",
       "      <td>401.450000</td>\n",
       "      <td>0.000000</td>\n",
       "      <td>0.000000</td>\n",
       "      <td>0.000000</td>\n",
       "      <td>0.000000</td>\n",
       "      <td>0.000000</td>\n",
       "      <td>0.000000</td>\n",
       "      <td>...</td>\n",
       "      <td>0.000000</td>\n",
       "      <td>0.000000</td>\n",
       "      <td>0.000000</td>\n",
       "      <td>0.000000</td>\n",
       "      <td>0.000000</td>\n",
       "      <td>0.000000</td>\n",
       "      <td>0.000000</td>\n",
       "      <td>0.000000</td>\n",
       "      <td>0.000000</td>\n",
       "      <td>0.000000</td>\n",
       "    </tr>\n",
       "    <tr>\n",
       "      <th>50%</th>\n",
       "      <td>0.000000</td>\n",
       "      <td>29.000000</td>\n",
       "      <td>70.350000</td>\n",
       "      <td>1397.475000</td>\n",
       "      <td>0.000000</td>\n",
       "      <td>0.000000</td>\n",
       "      <td>1.000000</td>\n",
       "      <td>1.000000</td>\n",
       "      <td>0.000000</td>\n",
       "      <td>1.000000</td>\n",
       "      <td>...</td>\n",
       "      <td>1.000000</td>\n",
       "      <td>0.000000</td>\n",
       "      <td>0.000000</td>\n",
       "      <td>0.000000</td>\n",
       "      <td>0.000000</td>\n",
       "      <td>0.000000</td>\n",
       "      <td>0.000000</td>\n",
       "      <td>0.000000</td>\n",
       "      <td>0.000000</td>\n",
       "      <td>0.000000</td>\n",
       "    </tr>\n",
       "    <tr>\n",
       "      <th>75%</th>\n",
       "      <td>0.000000</td>\n",
       "      <td>55.000000</td>\n",
       "      <td>89.850000</td>\n",
       "      <td>3794.737500</td>\n",
       "      <td>1.000000</td>\n",
       "      <td>1.000000</td>\n",
       "      <td>1.000000</td>\n",
       "      <td>1.000000</td>\n",
       "      <td>1.000000</td>\n",
       "      <td>1.000000</td>\n",
       "      <td>...</td>\n",
       "      <td>1.000000</td>\n",
       "      <td>1.000000</td>\n",
       "      <td>0.000000</td>\n",
       "      <td>1.000000</td>\n",
       "      <td>1.000000</td>\n",
       "      <td>0.000000</td>\n",
       "      <td>1.000000</td>\n",
       "      <td>1.000000</td>\n",
       "      <td>0.000000</td>\n",
       "      <td>1.000000</td>\n",
       "    </tr>\n",
       "    <tr>\n",
       "      <th>max</th>\n",
       "      <td>1.000000</td>\n",
       "      <td>72.000000</td>\n",
       "      <td>118.750000</td>\n",
       "      <td>8684.800000</td>\n",
       "      <td>1.000000</td>\n",
       "      <td>1.000000</td>\n",
       "      <td>1.000000</td>\n",
       "      <td>1.000000</td>\n",
       "      <td>1.000000</td>\n",
       "      <td>1.000000</td>\n",
       "      <td>...</td>\n",
       "      <td>1.000000</td>\n",
       "      <td>1.000000</td>\n",
       "      <td>1.000000</td>\n",
       "      <td>1.000000</td>\n",
       "      <td>1.000000</td>\n",
       "      <td>1.000000</td>\n",
       "      <td>1.000000</td>\n",
       "      <td>1.000000</td>\n",
       "      <td>1.000000</td>\n",
       "      <td>1.000000</td>\n",
       "    </tr>\n",
       "  </tbody>\n",
       "</table>\n",
       "<p>8 rows × 46 columns</p>\n",
       "</div>"
      ],
      "text/plain": [
       "       SeniorCitizen       tenure  MonthlyCharges  TotalCharges        Churn  \\\n",
       "count    7043.000000  7043.000000     7043.000000   7032.000000  7043.000000   \n",
       "mean        0.162147    32.371149       64.761692   2283.300441     0.265370   \n",
       "std         0.368612    24.559481       30.090047   2266.771362     0.441561   \n",
       "min         0.000000     0.000000       18.250000     18.800000     0.000000   \n",
       "25%         0.000000     9.000000       35.500000    401.450000     0.000000   \n",
       "50%         0.000000    29.000000       70.350000   1397.475000     0.000000   \n",
       "75%         0.000000    55.000000       89.850000   3794.737500     1.000000   \n",
       "max         1.000000    72.000000      118.750000   8684.800000     1.000000   \n",
       "\n",
       "       gender_Female  gender_Male   Partner_No  Partner_Yes  Dependents_No  \\\n",
       "count    7043.000000  7043.000000  7043.000000  7043.000000    7043.000000   \n",
       "mean        0.495244     0.504756     0.516967     0.483033       0.700412   \n",
       "std         0.500013     0.500013     0.499748     0.499748       0.458110   \n",
       "min         0.000000     0.000000     0.000000     0.000000       0.000000   \n",
       "25%         0.000000     0.000000     0.000000     0.000000       0.000000   \n",
       "50%         0.000000     1.000000     1.000000     0.000000       1.000000   \n",
       "75%         1.000000     1.000000     1.000000     1.000000       1.000000   \n",
       "max         1.000000     1.000000     1.000000     1.000000       1.000000   \n",
       "\n",
       "       ...  PaperlessBilling_Yes  TechSupport_No  \\\n",
       "count  ...           7043.000000     7043.000000   \n",
       "mean   ...              0.592219        0.493114   \n",
       "std    ...              0.491457        0.499988   \n",
       "min    ...              0.000000        0.000000   \n",
       "25%    ...              0.000000        0.000000   \n",
       "50%    ...              1.000000        0.000000   \n",
       "75%    ...              1.000000        1.000000   \n",
       "max    ...              1.000000        1.000000   \n",
       "\n",
       "       TechSupport_No internet service  TechSupport_Yes  StreamingTV_No  \\\n",
       "count                      7043.000000      7043.000000     7043.000000   \n",
       "mean                          0.216669         0.290217        0.398978   \n",
       "std                           0.412004         0.453895        0.489723   \n",
       "min                           0.000000         0.000000        0.000000   \n",
       "25%                           0.000000         0.000000        0.000000   \n",
       "50%                           0.000000         0.000000        0.000000   \n",
       "75%                           0.000000         1.000000        1.000000   \n",
       "max                           1.000000         1.000000        1.000000   \n",
       "\n",
       "       StreamingTV_No internet service  StreamingTV_Yes  StreamingMovies_No  \\\n",
       "count                      7043.000000      7043.000000         7043.000000   \n",
       "mean                          0.216669         0.384353            0.395428   \n",
       "std                           0.412004         0.486477            0.488977   \n",
       "min                           0.000000         0.000000            0.000000   \n",
       "25%                           0.000000         0.000000            0.000000   \n",
       "50%                           0.000000         0.000000            0.000000   \n",
       "75%                           0.000000         1.000000            1.000000   \n",
       "max                           1.000000         1.000000            1.000000   \n",
       "\n",
       "       StreamingMovies_No internet service  StreamingMovies_Yes  \n",
       "count                          7043.000000          7043.000000  \n",
       "mean                              0.216669             0.387903  \n",
       "std                               0.412004             0.487307  \n",
       "min                               0.000000             0.000000  \n",
       "25%                               0.000000             0.000000  \n",
       "50%                               0.000000             0.000000  \n",
       "75%                               0.000000             1.000000  \n",
       "max                               1.000000             1.000000  \n",
       "\n",
       "[8 rows x 46 columns]"
      ]
     },
     "execution_count": 27,
     "metadata": {},
     "output_type": "execute_result"
    }
   ],
   "source": [
    "df.describe()"
   ]
  },
  {
   "cell_type": "code",
   "execution_count": 28,
   "metadata": {},
   "outputs": [
    {
     "data": {
      "text/plain": [
       "customerID                                  0\n",
       "SeniorCitizen                               0\n",
       "tenure                                      0\n",
       "MonthlyCharges                              0\n",
       "TotalCharges                               11\n",
       "Churn                                       0\n",
       "gender_Female                               0\n",
       "gender_Male                                 0\n",
       "Partner_No                                  0\n",
       "Partner_Yes                                 0\n",
       "Dependents_No                               0\n",
       "Dependents_Yes                              0\n",
       "PhoneService_No                             0\n",
       "PhoneService_Yes                            0\n",
       "MultipleLines_No                            0\n",
       "MultipleLines_No phone service              0\n",
       "MultipleLines_Yes                           0\n",
       "InternetService_DSL                         0\n",
       "InternetService_Fiber optic                 0\n",
       "InternetService_No                          0\n",
       "OnlineSecurity_No                           0\n",
       "OnlineSecurity_No internet service          0\n",
       "OnlineSecurity_Yes                          0\n",
       "OnlineBackup_No                             0\n",
       "OnlineBackup_No internet service            0\n",
       "OnlineBackup_Yes                            0\n",
       "DeviceProtection_No                         0\n",
       "DeviceProtection_No internet service        0\n",
       "DeviceProtection_Yes                        0\n",
       "Contract_Month-to-month                     0\n",
       "Contract_One year                           0\n",
       "Contract_Two year                           0\n",
       "PaymentMethod_Bank transfer (automatic)     0\n",
       "PaymentMethod_Credit card (automatic)       0\n",
       "PaymentMethod_Electronic check              0\n",
       "PaymentMethod_Mailed check                  0\n",
       "PaperlessBilling_No                         0\n",
       "PaperlessBilling_Yes                        0\n",
       "TechSupport_No                              0\n",
       "TechSupport_No internet service             0\n",
       "TechSupport_Yes                             0\n",
       "StreamingTV_No                              0\n",
       "StreamingTV_No internet service             0\n",
       "StreamingTV_Yes                             0\n",
       "StreamingMovies_No                          0\n",
       "StreamingMovies_No internet service         0\n",
       "StreamingMovies_Yes                         0\n",
       "dtype: int64"
      ]
     },
     "execution_count": 28,
     "metadata": {},
     "output_type": "execute_result"
    }
   ],
   "source": [
    "df.isnull().sum()"
   ]
  },
  {
   "cell_type": "code",
   "execution_count": 29,
   "metadata": {},
   "outputs": [
    {
     "data": {
      "text/plain": [
       "(7043, 47)"
      ]
     },
     "execution_count": 29,
     "metadata": {},
     "output_type": "execute_result"
    }
   ],
   "source": [
    "df.shape"
   ]
  },
  {
   "cell_type": "code",
   "execution_count": 30,
   "metadata": {},
   "outputs": [
    {
     "data": {
      "text/plain": [
       "uint8      41\n",
       "int64       3\n",
       "float64     2\n",
       "object      1\n",
       "dtype: int64"
      ]
     },
     "execution_count": 30,
     "metadata": {},
     "output_type": "execute_result"
    }
   ],
   "source": [
    "df.dtypes.value_counts()"
   ]
  },
  {
   "cell_type": "code",
   "execution_count": 31,
   "metadata": {},
   "outputs": [
    {
     "data": {
      "text/plain": [
       "2283.3004408418697"
      ]
     },
     "execution_count": 31,
     "metadata": {},
     "output_type": "execute_result"
    }
   ],
   "source": [
    "df['TotalCharges'].mean()"
   ]
  },
  {
   "cell_type": "code",
   "execution_count": 32,
   "metadata": {},
   "outputs": [],
   "source": [
    "df['TotalCharges'] = df['TotalCharges'].fillna(df['TotalCharges'].mean())\n",
    "#Can also do replace or impute"
   ]
  },
  {
   "cell_type": "code",
   "execution_count": 33,
   "metadata": {},
   "outputs": [
    {
     "data": {
      "text/plain": [
       "0"
      ]
     },
     "execution_count": 33,
     "metadata": {},
     "output_type": "execute_result"
    }
   ],
   "source": [
    "df['TotalCharges'].isnull().sum()"
   ]
  },
  {
   "cell_type": "code",
   "execution_count": 34,
   "metadata": {},
   "outputs": [],
   "source": [
    "# too small\n",
    "#temp = df.corr()\n",
    "#import seaborn as sns\n",
    "#sns.heatmap(temp, annot = True)\n"
   ]
  },
  {
   "cell_type": "code",
   "execution_count": 35,
   "metadata": {},
   "outputs": [
    {
     "data": {
      "text/html": [
       "<div>\n",
       "<style scoped>\n",
       "    .dataframe tbody tr th:only-of-type {\n",
       "        vertical-align: middle;\n",
       "    }\n",
       "\n",
       "    .dataframe tbody tr th {\n",
       "        vertical-align: top;\n",
       "    }\n",
       "\n",
       "    .dataframe thead th {\n",
       "        text-align: right;\n",
       "    }\n",
       "</style>\n",
       "<table border=\"1\" class=\"dataframe\">\n",
       "  <thead>\n",
       "    <tr style=\"text-align: right;\">\n",
       "      <th></th>\n",
       "      <th>customerID</th>\n",
       "      <th>SeniorCitizen</th>\n",
       "      <th>tenure</th>\n",
       "      <th>MonthlyCharges</th>\n",
       "      <th>TotalCharges</th>\n",
       "      <th>Churn</th>\n",
       "      <th>gender_Female</th>\n",
       "      <th>gender_Male</th>\n",
       "      <th>Partner_No</th>\n",
       "      <th>Partner_Yes</th>\n",
       "      <th>...</th>\n",
       "      <th>PaperlessBilling_Yes</th>\n",
       "      <th>TechSupport_No</th>\n",
       "      <th>TechSupport_No internet service</th>\n",
       "      <th>TechSupport_Yes</th>\n",
       "      <th>StreamingTV_No</th>\n",
       "      <th>StreamingTV_No internet service</th>\n",
       "      <th>StreamingTV_Yes</th>\n",
       "      <th>StreamingMovies_No</th>\n",
       "      <th>StreamingMovies_No internet service</th>\n",
       "      <th>StreamingMovies_Yes</th>\n",
       "    </tr>\n",
       "  </thead>\n",
       "  <tbody>\n",
       "    <tr>\n",
       "      <th>0</th>\n",
       "      <td>7590-VHVEG</td>\n",
       "      <td>0</td>\n",
       "      <td>1</td>\n",
       "      <td>29.85</td>\n",
       "      <td>29.85</td>\n",
       "      <td>0</td>\n",
       "      <td>1</td>\n",
       "      <td>0</td>\n",
       "      <td>0</td>\n",
       "      <td>1</td>\n",
       "      <td>...</td>\n",
       "      <td>1</td>\n",
       "      <td>1</td>\n",
       "      <td>0</td>\n",
       "      <td>0</td>\n",
       "      <td>1</td>\n",
       "      <td>0</td>\n",
       "      <td>0</td>\n",
       "      <td>1</td>\n",
       "      <td>0</td>\n",
       "      <td>0</td>\n",
       "    </tr>\n",
       "    <tr>\n",
       "      <th>1</th>\n",
       "      <td>5575-GNVDE</td>\n",
       "      <td>0</td>\n",
       "      <td>34</td>\n",
       "      <td>56.95</td>\n",
       "      <td>1889.50</td>\n",
       "      <td>0</td>\n",
       "      <td>0</td>\n",
       "      <td>1</td>\n",
       "      <td>1</td>\n",
       "      <td>0</td>\n",
       "      <td>...</td>\n",
       "      <td>0</td>\n",
       "      <td>1</td>\n",
       "      <td>0</td>\n",
       "      <td>0</td>\n",
       "      <td>1</td>\n",
       "      <td>0</td>\n",
       "      <td>0</td>\n",
       "      <td>1</td>\n",
       "      <td>0</td>\n",
       "      <td>0</td>\n",
       "    </tr>\n",
       "    <tr>\n",
       "      <th>2</th>\n",
       "      <td>3668-QPYBK</td>\n",
       "      <td>0</td>\n",
       "      <td>2</td>\n",
       "      <td>53.85</td>\n",
       "      <td>108.15</td>\n",
       "      <td>1</td>\n",
       "      <td>0</td>\n",
       "      <td>1</td>\n",
       "      <td>1</td>\n",
       "      <td>0</td>\n",
       "      <td>...</td>\n",
       "      <td>1</td>\n",
       "      <td>1</td>\n",
       "      <td>0</td>\n",
       "      <td>0</td>\n",
       "      <td>1</td>\n",
       "      <td>0</td>\n",
       "      <td>0</td>\n",
       "      <td>1</td>\n",
       "      <td>0</td>\n",
       "      <td>0</td>\n",
       "    </tr>\n",
       "    <tr>\n",
       "      <th>3</th>\n",
       "      <td>7795-CFOCW</td>\n",
       "      <td>0</td>\n",
       "      <td>45</td>\n",
       "      <td>42.30</td>\n",
       "      <td>1840.75</td>\n",
       "      <td>0</td>\n",
       "      <td>0</td>\n",
       "      <td>1</td>\n",
       "      <td>1</td>\n",
       "      <td>0</td>\n",
       "      <td>...</td>\n",
       "      <td>0</td>\n",
       "      <td>0</td>\n",
       "      <td>0</td>\n",
       "      <td>1</td>\n",
       "      <td>1</td>\n",
       "      <td>0</td>\n",
       "      <td>0</td>\n",
       "      <td>1</td>\n",
       "      <td>0</td>\n",
       "      <td>0</td>\n",
       "    </tr>\n",
       "    <tr>\n",
       "      <th>4</th>\n",
       "      <td>9237-HQITU</td>\n",
       "      <td>0</td>\n",
       "      <td>2</td>\n",
       "      <td>70.70</td>\n",
       "      <td>151.65</td>\n",
       "      <td>1</td>\n",
       "      <td>1</td>\n",
       "      <td>0</td>\n",
       "      <td>1</td>\n",
       "      <td>0</td>\n",
       "      <td>...</td>\n",
       "      <td>1</td>\n",
       "      <td>1</td>\n",
       "      <td>0</td>\n",
       "      <td>0</td>\n",
       "      <td>1</td>\n",
       "      <td>0</td>\n",
       "      <td>0</td>\n",
       "      <td>1</td>\n",
       "      <td>0</td>\n",
       "      <td>0</td>\n",
       "    </tr>\n",
       "  </tbody>\n",
       "</table>\n",
       "<p>5 rows × 47 columns</p>\n",
       "</div>"
      ],
      "text/plain": [
       "   customerID  SeniorCitizen  tenure  MonthlyCharges  TotalCharges  Churn  \\\n",
       "0  7590-VHVEG              0       1           29.85         29.85      0   \n",
       "1  5575-GNVDE              0      34           56.95       1889.50      0   \n",
       "2  3668-QPYBK              0       2           53.85        108.15      1   \n",
       "3  7795-CFOCW              0      45           42.30       1840.75      0   \n",
       "4  9237-HQITU              0       2           70.70        151.65      1   \n",
       "\n",
       "   gender_Female  gender_Male  Partner_No  Partner_Yes  ...  \\\n",
       "0              1            0           0            1  ...   \n",
       "1              0            1           1            0  ...   \n",
       "2              0            1           1            0  ...   \n",
       "3              0            1           1            0  ...   \n",
       "4              1            0           1            0  ...   \n",
       "\n",
       "   PaperlessBilling_Yes  TechSupport_No  TechSupport_No internet service  \\\n",
       "0                     1               1                                0   \n",
       "1                     0               1                                0   \n",
       "2                     1               1                                0   \n",
       "3                     0               0                                0   \n",
       "4                     1               1                                0   \n",
       "\n",
       "   TechSupport_Yes  StreamingTV_No  StreamingTV_No internet service  \\\n",
       "0                0               1                                0   \n",
       "1                0               1                                0   \n",
       "2                0               1                                0   \n",
       "3                1               1                                0   \n",
       "4                0               1                                0   \n",
       "\n",
       "   StreamingTV_Yes  StreamingMovies_No  StreamingMovies_No internet service  \\\n",
       "0                0                   1                                    0   \n",
       "1                0                   1                                    0   \n",
       "2                0                   1                                    0   \n",
       "3                0                   1                                    0   \n",
       "4                0                   1                                    0   \n",
       "\n",
       "   StreamingMovies_Yes  \n",
       "0                    0  \n",
       "1                    0  \n",
       "2                    0  \n",
       "3                    0  \n",
       "4                    0  \n",
       "\n",
       "[5 rows x 47 columns]"
      ]
     },
     "execution_count": 35,
     "metadata": {},
     "output_type": "execute_result"
    }
   ],
   "source": [
    "df.head()"
   ]
  },
  {
   "cell_type": "code",
   "execution_count": 36,
   "metadata": {},
   "outputs": [
    {
     "data": {
      "text/plain": [
       "(7043, 47)"
      ]
     },
     "execution_count": 36,
     "metadata": {},
     "output_type": "execute_result"
    }
   ],
   "source": [
    "df.shape"
   ]
  },
  {
   "cell_type": "code",
   "execution_count": 37,
   "metadata": {},
   "outputs": [
    {
     "data": {
      "text/plain": [
       "(7043,)"
      ]
     },
     "execution_count": 37,
     "metadata": {},
     "output_type": "execute_result"
    }
   ],
   "source": [
    "df['Churn'].shape"
   ]
  },
  {
   "cell_type": "code",
   "execution_count": 38,
   "metadata": {},
   "outputs": [
    {
     "data": {
      "text/plain": [
       "0    5174\n",
       "1    1869\n",
       "Name: Churn, dtype: int64"
      ]
     },
     "execution_count": 38,
     "metadata": {},
     "output_type": "execute_result"
    }
   ],
   "source": [
    "df['Churn'].value_counts()"
   ]
  },
  {
   "cell_type": "code",
   "execution_count": null,
   "metadata": {},
   "outputs": [],
   "source": []
  },
  {
   "cell_type": "markdown",
   "metadata": {},
   "source": [
    "# Preparing Data"
   ]
  },
  {
   "cell_type": "code",
   "execution_count": 39,
   "metadata": {},
   "outputs": [],
   "source": [
    "# Standard data - limited X _a"
   ]
  },
  {
   "cell_type": "code",
   "execution_count": 40,
   "metadata": {},
   "outputs": [],
   "source": [
    "y_a = df[['Churn']]\n",
    "X_a = df[[ 'tenure','TechSupport_Yes','TechSupport_No']]"
   ]
  },
  {
   "cell_type": "code",
   "execution_count": 41,
   "metadata": {},
   "outputs": [],
   "source": [
    "X_train_a, X_test_a, y_train_a, y_test_a = train_test_split(X_a, y_a, test_size=0.20, random_state=1)"
   ]
  },
  {
   "cell_type": "code",
   "execution_count": 42,
   "metadata": {},
   "outputs": [],
   "source": [
    "# Standard data - All X _b"
   ]
  },
  {
   "cell_type": "code",
   "execution_count": 43,
   "metadata": {},
   "outputs": [],
   "source": [
    "# For Best Results\n",
    "#y_b = df[['Churn']]\n",
    "#X_b = df.drop([\"customerID\",\"Churn\"], axis = 1)"
   ]
  },
  {
   "cell_type": "code",
   "execution_count": 44,
   "metadata": {},
   "outputs": [],
   "source": [
    "# For Not Best Results\n",
    "y_b = df[['Churn']]\n",
    "X_b = df.drop([\"customerID\",\"Churn\", \"MonthlyCharges\",\"TotalCharges\", \"tenure\" ], axis = 1)"
   ]
  },
  {
   "cell_type": "code",
   "execution_count": 45,
   "metadata": {},
   "outputs": [],
   "source": [
    "X_train_b, X_test_b, y_train_b, y_test_b = train_test_split(X_b, y_b, test_size=0.20, random_state=1)"
   ]
  },
  {
   "cell_type": "markdown",
   "metadata": {},
   "source": [
    "# Functions"
   ]
  },
  {
   "cell_type": "code",
   "execution_count": 46,
   "metadata": {},
   "outputs": [],
   "source": [
    "def find_all(y_test_f,X_test_f,model_f,X_train_f, y_train_f):\n",
    "    model_f.fit(X_train_f, y_train_f)\n",
    "    preds = model_f.predict_proba(X_test_f)[:,1]\n",
    "    fpr, tpr, thresholds  = metrics.roc_curve(y_test_f, preds)\n",
    "    roc_auc = metrics.auc(fpr, tpr)\n",
    "    y_pred_f = model_f.predict(X_test_f)\n",
    "    cf = confusion_matrix(y_test_f, y_pred_f)\n",
    "    accuracy_score_train =  model_f.score(X_train_f, y_train_f) \n",
    "    accuracy_score_test =  model_f.score(X_test_f, y_test_f)    \n",
    "    return{'auc': roc_auc, 'cfm':cf ,'accuracy_score_train':accuracy_score_train , 'accuracy_score_test':accuracy_score_test}"
   ]
  },
  {
   "cell_type": "markdown",
   "metadata": {},
   "source": [
    "# Logitstic regression"
   ]
  },
  {
   "cell_type": "code",
   "execution_count": 47,
   "metadata": {},
   "outputs": [],
   "source": [
    "from sklearn.linear_model import LogisticRegression"
   ]
  },
  {
   "cell_type": "code",
   "execution_count": 48,
   "metadata": {},
   "outputs": [],
   "source": [
    "LogisticModel = LogisticRegression()"
   ]
  },
  {
   "cell_type": "code",
   "execution_count": 49,
   "metadata": {},
   "outputs": [
    {
     "name": "stderr",
     "output_type": "stream",
     "text": [
      "C:\\Users\\alexd\\anaconda3\\lib\\site-packages\\sklearn\\utils\\validation.py:760: DataConversionWarning: A column-vector y was passed when a 1d array was expected. Please change the shape of y to (n_samples, ), for example using ravel().\n",
      "  y = column_or_1d(y, warn=True)\n"
     ]
    },
    {
     "data": {
      "text/plain": [
       "LogisticRegression(C=1.0, class_weight=None, dual=False, fit_intercept=True,\n",
       "                   intercept_scaling=1, l1_ratio=None, max_iter=100,\n",
       "                   multi_class='auto', n_jobs=None, penalty='l2',\n",
       "                   random_state=None, solver='lbfgs', tol=0.0001, verbose=0,\n",
       "                   warm_start=False)"
      ]
     },
     "execution_count": 49,
     "metadata": {},
     "output_type": "execute_result"
    }
   ],
   "source": [
    "LogisticModel.fit(X_train_a, y_train_a)"
   ]
  },
  {
   "cell_type": "code",
   "execution_count": 50,
   "metadata": {},
   "outputs": [
    {
     "name": "stdout",
     "output_type": "stream",
     "text": [
      "LogisticRegression(C=1.0, class_weight=None, dual=False, fit_intercept=True,\n",
      "                   intercept_scaling=1, l1_ratio=None, max_iter=100,\n",
      "                   multi_class='auto', n_jobs=None, penalty='l2',\n",
      "                   random_state=None, solver='lbfgs', tol=0.0001, verbose=0,\n",
      "                   warm_start=False)\n"
     ]
    }
   ],
   "source": [
    "print(LogisticModel)"
   ]
  },
  {
   "cell_type": "code",
   "execution_count": 51,
   "metadata": {},
   "outputs": [
    {
     "name": "stdout",
     "output_type": "stream",
     "text": [
      "0.770855520056798\n"
     ]
    }
   ],
   "source": [
    "r_sq = LogisticModel.score(X_train_a, y_train_a)\n",
    "print(r_sq)"
   ]
  },
  {
   "cell_type": "code",
   "execution_count": 52,
   "metadata": {},
   "outputs": [
    {
     "name": "stdout",
     "output_type": "stream",
     "text": [
      "0.770855520056798\n"
     ]
    }
   ],
   "source": [
    "accuracy_score = LogisticModel.score(X_train_a, y_train_a)\n",
    "print(accuracy_score)"
   ]
  },
  {
   "cell_type": "code",
   "execution_count": 53,
   "metadata": {},
   "outputs": [
    {
     "name": "stdout",
     "output_type": "stream",
     "text": [
      "0.78708303761533\n"
     ]
    }
   ],
   "source": [
    "accuracy_score_test = LogisticModel.score(X_test_a, y_test_a)\n",
    "print(accuracy_score_test)"
   ]
  },
  {
   "cell_type": "markdown",
   "metadata": {},
   "source": [
    "# XG Boost - default - limited features"
   ]
  },
  {
   "cell_type": "code",
   "execution_count": 54,
   "metadata": {},
   "outputs": [],
   "source": [
    "from numpy import loadtxt\n",
    "from xgboost import XGBClassifier\n",
    "from sklearn.metrics import accuracy_score"
   ]
  },
  {
   "cell_type": "code",
   "execution_count": 55,
   "metadata": {},
   "outputs": [],
   "source": [
    "XG_model_a = XGBClassifier(silent =0)"
   ]
  },
  {
   "cell_type": "code",
   "execution_count": 56,
   "metadata": {},
   "outputs": [
    {
     "name": "stderr",
     "output_type": "stream",
     "text": [
      "C:\\Users\\alexd\\anaconda3\\lib\\site-packages\\sklearn\\preprocessing\\_label.py:235: DataConversionWarning: A column-vector y was passed when a 1d array was expected. Please change the shape of y to (n_samples, ), for example using ravel().\n",
      "  y = column_or_1d(y, warn=True)\n",
      "C:\\Users\\alexd\\anaconda3\\lib\\site-packages\\sklearn\\preprocessing\\_label.py:268: DataConversionWarning: A column-vector y was passed when a 1d array was expected. Please change the shape of y to (n_samples, ), for example using ravel().\n",
      "  y = column_or_1d(y, warn=True)\n"
     ]
    },
    {
     "name": "stdout",
     "output_type": "stream",
     "text": [
      "[08:41:47] WARNING: C:\\Users\\Administrator\\workspace\\xgboost-win64_release_1.1.0\\src\\learner.cc:480: \n",
      "Parameters: { silent } might not be used.\n",
      "\n",
      "  This may not be accurate due to some parameters are only used in language bindings but\n",
      "  passed down to XGBoost core.  Or some parameters are not used but slip through this\n",
      "  verification. Please open an issue if you find above cases.\n",
      "\n",
      "\n"
     ]
    },
    {
     "data": {
      "text/plain": [
       "XGBClassifier(base_score=0.5, booster='gbtree', colsample_bylevel=1,\n",
       "              colsample_bynode=1, colsample_bytree=1, gamma=0, gpu_id=-1,\n",
       "              importance_type='gain', interaction_constraints='',\n",
       "              learning_rate=0.300000012, max_delta_step=0, max_depth=6,\n",
       "              min_child_weight=1, missing=nan, monotone_constraints='()',\n",
       "              n_estimators=100, n_jobs=0, num_parallel_tree=1,\n",
       "              objective='binary:logistic', random_state=0, reg_alpha=0,\n",
       "              reg_lambda=1, scale_pos_weight=1, silent=0, subsample=1,\n",
       "              tree_method='exact', validate_parameters=1, verbosity=None)"
      ]
     },
     "execution_count": 56,
     "metadata": {},
     "output_type": "execute_result"
    }
   ],
   "source": [
    "XG_model_a.fit(X_train_a, y_train_a)"
   ]
  },
  {
   "cell_type": "code",
   "execution_count": 57,
   "metadata": {},
   "outputs": [
    {
     "name": "stdout",
     "output_type": "stream",
     "text": [
      "XG train score  0.7765353212637558\n",
      "XG test score  0.7906316536550745\n"
     ]
    }
   ],
   "source": [
    "print(\"XG train score \", XG_model_a.score(X_train_a, y_train_a))\n",
    "print(\"XG test score \", XG_model_a.score(X_test_a, y_test_a))"
   ]
  },
  {
   "cell_type": "code",
   "execution_count": 58,
   "metadata": {},
   "outputs": [
    {
     "data": {
      "image/png": "[encoded data removed]",
      "text/plain": [
       "<Figure size 576x396 with 1 Axes>"
      ]
     },
     "metadata": {},
     "output_type": "display_data"
    }
   ],
   "source": [
    "_ = plot_importance(XG_model_a, height=0.9)"
   ]
  },
  {
   "cell_type": "markdown",
   "metadata": {},
   "source": [
    "# XG with function"
   ]
  },
  {
   "cell_type": "code",
   "execution_count": 59,
   "metadata": {},
   "outputs": [
    {
     "name": "stdout",
     "output_type": "stream",
     "text": [
      "\u001b[1mXG_Results Results \n",
      "\u001b[0m\n",
      "XG_Results AUC Test  79.69%\n",
      "[[965  96]\n",
      " [199 149]]\n",
      "XG_Results accuracy_score_train  77.65%\n",
      "XG_Results accuracy_score_test  79.06%\n"
     ]
    }
   ],
   "source": [
    "XG_Results= find_all(y_test_a, X_test_a ,XGBClassifier(), X_train_a, y_train_a)\n",
    "print(color.BOLD +\"XG_Results Results \")\n",
    "print ('\\033[0m')\n",
    "\n",
    "print(\"XG_Results AUC Test  %.2f%%\" % (XG_Results['auc']* 100.0))\n",
    "print(XG_Results['cfm'])\n",
    "print(\"XG_Results accuracy_score_train  %.2f%%\" % (XG_Results ['accuracy_score_train'] * 100.0))\n",
    "print(\"XG_Results accuracy_score_test  %.2f%%\" % (XG_Results ['accuracy_score_test']* 100.0))"
   ]
  },
  {
   "cell_type": "markdown",
   "metadata": {},
   "source": [
    "# XG Boost - default - multiple feature"
   ]
  },
  {
   "cell_type": "code",
   "execution_count": 60,
   "metadata": {},
   "outputs": [],
   "source": [
    "XG_model_b = XGBClassifier()"
   ]
  },
  {
   "cell_type": "code",
   "execution_count": 61,
   "metadata": {},
   "outputs": [
    {
     "data": {
      "text/plain": [
       "XGBClassifier(base_score=0.5, booster='gbtree', colsample_bylevel=1,\n",
       "              colsample_bynode=1, colsample_bytree=1, gamma=0, gpu_id=-1,\n",
       "              importance_type='gain', interaction_constraints='',\n",
       "              learning_rate=0.300000012, max_delta_step=0, max_depth=6,\n",
       "              min_child_weight=1, missing=nan, monotone_constraints='()',\n",
       "              n_estimators=100, n_jobs=0, num_parallel_tree=1,\n",
       "              objective='binary:logistic', random_state=0, reg_alpha=0,\n",
       "              reg_lambda=1, scale_pos_weight=1, subsample=1,\n",
       "              tree_method='exact', validate_parameters=1, verbosity=None)"
      ]
     },
     "execution_count": 61,
     "metadata": {},
     "output_type": "execute_result"
    }
   ],
   "source": [
    "XG_model_b.fit(X_train_b, y_train_b)"
   ]
  },
  {
   "cell_type": "code",
   "execution_count": 62,
   "metadata": {},
   "outputs": [
    {
     "name": "stdout",
     "output_type": "stream",
     "text": [
      "XG train score  0.8862264820731275\n",
      "XG test score  0.7615330021291696\n"
     ]
    }
   ],
   "source": [
    "print(\"XG train score \", XG_model_b.score(X_train_b, y_train_b))\n",
    "print(\"XG test score \", XG_model_b.score(X_test_b, y_test_b))"
   ]
  },
  {
   "cell_type": "code",
   "execution_count": 63,
   "metadata": {},
   "outputs": [
    {
     "data": {
      "image/png": "[encoded data removed]",
      "text/plain": [
       "<Figure size 576x396 with 1 Axes>"
      ]
     },
     "metadata": {},
     "output_type": "display_data"
    }
   ],
   "source": [
    "_ = plot_importance(XG_model_b, height=0.9)"
   ]
  },
  {
   "cell_type": "markdown",
   "metadata": {},
   "source": [
    "# Set up over sampling"
   ]
  },
  {
   "cell_type": "code",
   "execution_count": 64,
   "metadata": {},
   "outputs": [],
   "source": [
    "train_b2, test_b2 = train_test_split(df, test_size=0.20, random_state=1)"
   ]
  },
  {
   "cell_type": "code",
   "execution_count": 65,
   "metadata": {},
   "outputs": [
    {
     "data": {
      "text/html": [
       "<div>\n",
       "<style scoped>\n",
       "    .dataframe tbody tr th:only-of-type {\n",
       "        vertical-align: middle;\n",
       "    }\n",
       "\n",
       "    .dataframe tbody tr th {\n",
       "        vertical-align: top;\n",
       "    }\n",
       "\n",
       "    .dataframe thead th {\n",
       "        text-align: right;\n",
       "    }\n",
       "</style>\n",
       "<table border=\"1\" class=\"dataframe\">\n",
       "  <thead>\n",
       "    <tr style=\"text-align: right;\">\n",
       "      <th></th>\n",
       "      <th>customerID</th>\n",
       "      <th>SeniorCitizen</th>\n",
       "      <th>tenure</th>\n",
       "      <th>MonthlyCharges</th>\n",
       "      <th>TotalCharges</th>\n",
       "      <th>Churn</th>\n",
       "      <th>gender_Female</th>\n",
       "      <th>gender_Male</th>\n",
       "      <th>Partner_No</th>\n",
       "      <th>Partner_Yes</th>\n",
       "      <th>...</th>\n",
       "      <th>PaperlessBilling_Yes</th>\n",
       "      <th>TechSupport_No</th>\n",
       "      <th>TechSupport_No internet service</th>\n",
       "      <th>TechSupport_Yes</th>\n",
       "      <th>StreamingTV_No</th>\n",
       "      <th>StreamingTV_No internet service</th>\n",
       "      <th>StreamingTV_Yes</th>\n",
       "      <th>StreamingMovies_No</th>\n",
       "      <th>StreamingMovies_No internet service</th>\n",
       "      <th>StreamingMovies_Yes</th>\n",
       "    </tr>\n",
       "  </thead>\n",
       "  <tbody>\n",
       "    <tr>\n",
       "      <th>1814</th>\n",
       "      <td>5442-PPTJY</td>\n",
       "      <td>0</td>\n",
       "      <td>12</td>\n",
       "      <td>19.70</td>\n",
       "      <td>258.35</td>\n",
       "      <td>0</td>\n",
       "      <td>0</td>\n",
       "      <td>1</td>\n",
       "      <td>0</td>\n",
       "      <td>1</td>\n",
       "      <td>...</td>\n",
       "      <td>0</td>\n",
       "      <td>0</td>\n",
       "      <td>1</td>\n",
       "      <td>0</td>\n",
       "      <td>0</td>\n",
       "      <td>1</td>\n",
       "      <td>0</td>\n",
       "      <td>0</td>\n",
       "      <td>1</td>\n",
       "      <td>0</td>\n",
       "    </tr>\n",
       "    <tr>\n",
       "      <th>5946</th>\n",
       "      <td>6261-RCVNS</td>\n",
       "      <td>0</td>\n",
       "      <td>42</td>\n",
       "      <td>73.90</td>\n",
       "      <td>3160.55</td>\n",
       "      <td>1</td>\n",
       "      <td>1</td>\n",
       "      <td>0</td>\n",
       "      <td>1</td>\n",
       "      <td>0</td>\n",
       "      <td>...</td>\n",
       "      <td>0</td>\n",
       "      <td>0</td>\n",
       "      <td>0</td>\n",
       "      <td>1</td>\n",
       "      <td>1</td>\n",
       "      <td>0</td>\n",
       "      <td>0</td>\n",
       "      <td>0</td>\n",
       "      <td>0</td>\n",
       "      <td>1</td>\n",
       "    </tr>\n",
       "    <tr>\n",
       "      <th>3881</th>\n",
       "      <td>2176-OSJUV</td>\n",
       "      <td>0</td>\n",
       "      <td>71</td>\n",
       "      <td>65.15</td>\n",
       "      <td>4681.75</td>\n",
       "      <td>0</td>\n",
       "      <td>0</td>\n",
       "      <td>1</td>\n",
       "      <td>0</td>\n",
       "      <td>1</td>\n",
       "      <td>...</td>\n",
       "      <td>0</td>\n",
       "      <td>0</td>\n",
       "      <td>0</td>\n",
       "      <td>1</td>\n",
       "      <td>1</td>\n",
       "      <td>0</td>\n",
       "      <td>0</td>\n",
       "      <td>1</td>\n",
       "      <td>0</td>\n",
       "      <td>0</td>\n",
       "    </tr>\n",
       "    <tr>\n",
       "      <th>2389</th>\n",
       "      <td>6161-ERDGD</td>\n",
       "      <td>0</td>\n",
       "      <td>71</td>\n",
       "      <td>85.45</td>\n",
       "      <td>6300.85</td>\n",
       "      <td>0</td>\n",
       "      <td>0</td>\n",
       "      <td>1</td>\n",
       "      <td>0</td>\n",
       "      <td>1</td>\n",
       "      <td>...</td>\n",
       "      <td>0</td>\n",
       "      <td>0</td>\n",
       "      <td>0</td>\n",
       "      <td>1</td>\n",
       "      <td>0</td>\n",
       "      <td>0</td>\n",
       "      <td>1</td>\n",
       "      <td>0</td>\n",
       "      <td>0</td>\n",
       "      <td>1</td>\n",
       "    </tr>\n",
       "    <tr>\n",
       "      <th>3676</th>\n",
       "      <td>2364-UFROM</td>\n",
       "      <td>0</td>\n",
       "      <td>30</td>\n",
       "      <td>70.40</td>\n",
       "      <td>2044.75</td>\n",
       "      <td>0</td>\n",
       "      <td>0</td>\n",
       "      <td>1</td>\n",
       "      <td>1</td>\n",
       "      <td>0</td>\n",
       "      <td>...</td>\n",
       "      <td>0</td>\n",
       "      <td>0</td>\n",
       "      <td>0</td>\n",
       "      <td>1</td>\n",
       "      <td>0</td>\n",
       "      <td>0</td>\n",
       "      <td>1</td>\n",
       "      <td>1</td>\n",
       "      <td>0</td>\n",
       "      <td>0</td>\n",
       "    </tr>\n",
       "  </tbody>\n",
       "</table>\n",
       "<p>5 rows × 47 columns</p>\n",
       "</div>"
      ],
      "text/plain": [
       "      customerID  SeniorCitizen  tenure  MonthlyCharges  TotalCharges  Churn  \\\n",
       "1814  5442-PPTJY              0      12           19.70        258.35      0   \n",
       "5946  6261-RCVNS              0      42           73.90       3160.55      1   \n",
       "3881  2176-OSJUV              0      71           65.15       4681.75      0   \n",
       "2389  6161-ERDGD              0      71           85.45       6300.85      0   \n",
       "3676  2364-UFROM              0      30           70.40       2044.75      0   \n",
       "\n",
       "      gender_Female  gender_Male  Partner_No  Partner_Yes  ...  \\\n",
       "1814              0            1           0            1  ...   \n",
       "5946              1            0           1            0  ...   \n",
       "3881              0            1           0            1  ...   \n",
       "2389              0            1           0            1  ...   \n",
       "3676              0            1           1            0  ...   \n",
       "\n",
       "      PaperlessBilling_Yes  TechSupport_No  TechSupport_No internet service  \\\n",
       "1814                     0               0                                1   \n",
       "5946                     0               0                                0   \n",
       "3881                     0               0                                0   \n",
       "2389                     0               0                                0   \n",
       "3676                     0               0                                0   \n",
       "\n",
       "      TechSupport_Yes  StreamingTV_No  StreamingTV_No internet service  \\\n",
       "1814                0               0                                1   \n",
       "5946                1               1                                0   \n",
       "3881                1               1                                0   \n",
       "2389                1               0                                0   \n",
       "3676                1               0                                0   \n",
       "\n",
       "      StreamingTV_Yes  StreamingMovies_No  \\\n",
       "1814                0                   0   \n",
       "5946                0                   0   \n",
       "3881                0                   1   \n",
       "2389                1                   0   \n",
       "3676                1                   1   \n",
       "\n",
       "      StreamingMovies_No internet service  StreamingMovies_Yes  \n",
       "1814                                    1                    0  \n",
       "5946                                    0                    1  \n",
       "3881                                    0                    0  \n",
       "2389                                    0                    1  \n",
       "3676                                    0                    0  \n",
       "\n",
       "[5 rows x 47 columns]"
      ]
     },
     "execution_count": 65,
     "metadata": {},
     "output_type": "execute_result"
    }
   ],
   "source": [
    "train_b2.head()"
   ]
  },
  {
   "cell_type": "markdown",
   "metadata": {},
   "source": [
    "https://www.kaggle.com/rafjaa/resampling-strategies-for-imbalanced-datasets\n",
    "https://towardsdatascience.com/probability-calibration-for-imbalanced-dataset-64af3730eaab\n"
   ]
  },
  {
   "cell_type": "code",
   "execution_count": 66,
   "metadata": {},
   "outputs": [
    {
     "data": {
      "text/plain": [
       "0    4113\n",
       "1    1521\n",
       "Name: Churn, dtype: int64"
      ]
     },
     "execution_count": 66,
     "metadata": {},
     "output_type": "execute_result"
    }
   ],
   "source": [
    "train_b2['Churn'].value_counts()"
   ]
  },
  {
   "cell_type": "code",
   "execution_count": 67,
   "metadata": {},
   "outputs": [],
   "source": [
    "target_count = train_b2.Churn.value_counts()"
   ]
  },
  {
   "cell_type": "code",
   "execution_count": 68,
   "metadata": {},
   "outputs": [
    {
     "name": "stdout",
     "output_type": "stream",
     "text": [
      "0    4113\n",
      "1    1521\n",
      "Name: Churn, dtype: int64\n"
     ]
    }
   ],
   "source": [
    "print(target_count)"
   ]
  },
  {
   "cell_type": "code",
   "execution_count": 69,
   "metadata": {},
   "outputs": [],
   "source": [
    "count_class_1 =target_count[1] \n",
    "count_class_0 = target_count[0]"
   ]
  },
  {
   "cell_type": "markdown",
   "metadata": {},
   "source": [
    "# Divide by class"
   ]
  },
  {
   "cell_type": "code",
   "execution_count": 70,
   "metadata": {},
   "outputs": [],
   "source": [
    "df_class_0 = train_b2[train_b2['Churn'] == 0]\n",
    "df_class_1 = train_b2[train_b2['Churn'] == 1]"
   ]
  },
  {
   "cell_type": "code",
   "execution_count": 71,
   "metadata": {},
   "outputs": [],
   "source": [
    "# Random over-sampling\n",
    "df_class_1_over = df_class_1.sample(count_class_0, replace=True)\n",
    "df_train_over = pd.concat([df_class_0, df_class_1_over], axis=0)"
   ]
  },
  {
   "cell_type": "code",
   "execution_count": 72,
   "metadata": {},
   "outputs": [
    {
     "name": "stdout",
     "output_type": "stream",
     "text": [
      "Random over-sampling:\n"
     ]
    },
    {
     "data": {
      "text/html": [
       "<div>\n",
       "<style scoped>\n",
       "    .dataframe tbody tr th:only-of-type {\n",
       "        vertical-align: middle;\n",
       "    }\n",
       "\n",
       "    .dataframe tbody tr th {\n",
       "        vertical-align: top;\n",
       "    }\n",
       "\n",
       "    .dataframe thead th {\n",
       "        text-align: right;\n",
       "    }\n",
       "</style>\n",
       "<table border=\"1\" class=\"dataframe\">\n",
       "  <thead>\n",
       "    <tr style=\"text-align: right;\">\n",
       "      <th></th>\n",
       "      <th>customerID</th>\n",
       "      <th>SeniorCitizen</th>\n",
       "      <th>tenure</th>\n",
       "      <th>MonthlyCharges</th>\n",
       "      <th>TotalCharges</th>\n",
       "      <th>Churn</th>\n",
       "      <th>gender_Female</th>\n",
       "      <th>gender_Male</th>\n",
       "      <th>Partner_No</th>\n",
       "      <th>Partner_Yes</th>\n",
       "      <th>...</th>\n",
       "      <th>PaperlessBilling_Yes</th>\n",
       "      <th>TechSupport_No</th>\n",
       "      <th>TechSupport_No internet service</th>\n",
       "      <th>TechSupport_Yes</th>\n",
       "      <th>StreamingTV_No</th>\n",
       "      <th>StreamingTV_No internet service</th>\n",
       "      <th>StreamingTV_Yes</th>\n",
       "      <th>StreamingMovies_No</th>\n",
       "      <th>StreamingMovies_No internet service</th>\n",
       "      <th>StreamingMovies_Yes</th>\n",
       "    </tr>\n",
       "  </thead>\n",
       "  <tbody>\n",
       "    <tr>\n",
       "      <th>1814</th>\n",
       "      <td>5442-PPTJY</td>\n",
       "      <td>0</td>\n",
       "      <td>12</td>\n",
       "      <td>19.70</td>\n",
       "      <td>258.35</td>\n",
       "      <td>0</td>\n",
       "      <td>0</td>\n",
       "      <td>1</td>\n",
       "      <td>0</td>\n",
       "      <td>1</td>\n",
       "      <td>...</td>\n",
       "      <td>0</td>\n",
       "      <td>0</td>\n",
       "      <td>1</td>\n",
       "      <td>0</td>\n",
       "      <td>0</td>\n",
       "      <td>1</td>\n",
       "      <td>0</td>\n",
       "      <td>0</td>\n",
       "      <td>1</td>\n",
       "      <td>0</td>\n",
       "    </tr>\n",
       "    <tr>\n",
       "      <th>3881</th>\n",
       "      <td>2176-OSJUV</td>\n",
       "      <td>0</td>\n",
       "      <td>71</td>\n",
       "      <td>65.15</td>\n",
       "      <td>4681.75</td>\n",
       "      <td>0</td>\n",
       "      <td>0</td>\n",
       "      <td>1</td>\n",
       "      <td>0</td>\n",
       "      <td>1</td>\n",
       "      <td>...</td>\n",
       "      <td>0</td>\n",
       "      <td>0</td>\n",
       "      <td>0</td>\n",
       "      <td>1</td>\n",
       "      <td>1</td>\n",
       "      <td>0</td>\n",
       "      <td>0</td>\n",
       "      <td>1</td>\n",
       "      <td>0</td>\n",
       "      <td>0</td>\n",
       "    </tr>\n",
       "    <tr>\n",
       "      <th>2389</th>\n",
       "      <td>6161-ERDGD</td>\n",
       "      <td>0</td>\n",
       "      <td>71</td>\n",
       "      <td>85.45</td>\n",
       "      <td>6300.85</td>\n",
       "      <td>0</td>\n",
       "      <td>0</td>\n",
       "      <td>1</td>\n",
       "      <td>0</td>\n",
       "      <td>1</td>\n",
       "      <td>...</td>\n",
       "      <td>0</td>\n",
       "      <td>0</td>\n",
       "      <td>0</td>\n",
       "      <td>1</td>\n",
       "      <td>0</td>\n",
       "      <td>0</td>\n",
       "      <td>1</td>\n",
       "      <td>0</td>\n",
       "      <td>0</td>\n",
       "      <td>1</td>\n",
       "    </tr>\n",
       "    <tr>\n",
       "      <th>3676</th>\n",
       "      <td>2364-UFROM</td>\n",
       "      <td>0</td>\n",
       "      <td>30</td>\n",
       "      <td>70.40</td>\n",
       "      <td>2044.75</td>\n",
       "      <td>0</td>\n",
       "      <td>0</td>\n",
       "      <td>1</td>\n",
       "      <td>1</td>\n",
       "      <td>0</td>\n",
       "      <td>...</td>\n",
       "      <td>0</td>\n",
       "      <td>0</td>\n",
       "      <td>0</td>\n",
       "      <td>1</td>\n",
       "      <td>0</td>\n",
       "      <td>0</td>\n",
       "      <td>1</td>\n",
       "      <td>1</td>\n",
       "      <td>0</td>\n",
       "      <td>0</td>\n",
       "    </tr>\n",
       "    <tr>\n",
       "      <th>588</th>\n",
       "      <td>0742-LAFQK</td>\n",
       "      <td>0</td>\n",
       "      <td>72</td>\n",
       "      <td>99.15</td>\n",
       "      <td>7422.10</td>\n",
       "      <td>0</td>\n",
       "      <td>0</td>\n",
       "      <td>1</td>\n",
       "      <td>0</td>\n",
       "      <td>1</td>\n",
       "      <td>...</td>\n",
       "      <td>1</td>\n",
       "      <td>1</td>\n",
       "      <td>0</td>\n",
       "      <td>0</td>\n",
       "      <td>1</td>\n",
       "      <td>0</td>\n",
       "      <td>0</td>\n",
       "      <td>0</td>\n",
       "      <td>0</td>\n",
       "      <td>1</td>\n",
       "    </tr>\n",
       "  </tbody>\n",
       "</table>\n",
       "<p>5 rows × 47 columns</p>\n",
       "</div>"
      ],
      "text/plain": [
       "      customerID  SeniorCitizen  tenure  MonthlyCharges  TotalCharges  Churn  \\\n",
       "1814  5442-PPTJY              0      12           19.70        258.35      0   \n",
       "3881  2176-OSJUV              0      71           65.15       4681.75      0   \n",
       "2389  6161-ERDGD              0      71           85.45       6300.85      0   \n",
       "3676  2364-UFROM              0      30           70.40       2044.75      0   \n",
       "588   0742-LAFQK              0      72           99.15       7422.10      0   \n",
       "\n",
       "      gender_Female  gender_Male  Partner_No  Partner_Yes  ...  \\\n",
       "1814              0            1           0            1  ...   \n",
       "3881              0            1           0            1  ...   \n",
       "2389              0            1           0            1  ...   \n",
       "3676              0            1           1            0  ...   \n",
       "588               0            1           0            1  ...   \n",
       "\n",
       "      PaperlessBilling_Yes  TechSupport_No  TechSupport_No internet service  \\\n",
       "1814                     0               0                                1   \n",
       "3881                     0               0                                0   \n",
       "2389                     0               0                                0   \n",
       "3676                     0               0                                0   \n",
       "588                      1               1                                0   \n",
       "\n",
       "      TechSupport_Yes  StreamingTV_No  StreamingTV_No internet service  \\\n",
       "1814                0               0                                1   \n",
       "3881                1               1                                0   \n",
       "2389                1               0                                0   \n",
       "3676                1               0                                0   \n",
       "588                 0               1                                0   \n",
       "\n",
       "      StreamingTV_Yes  StreamingMovies_No  \\\n",
       "1814                0                   0   \n",
       "3881                0                   1   \n",
       "2389                1                   0   \n",
       "3676                1                   1   \n",
       "588                 0                   0   \n",
       "\n",
       "      StreamingMovies_No internet service  StreamingMovies_Yes  \n",
       "1814                                    1                    0  \n",
       "3881                                    0                    0  \n",
       "2389                                    0                    1  \n",
       "3676                                    0                    0  \n",
       "588                                     0                    1  \n",
       "\n",
       "[5 rows x 47 columns]"
      ]
     },
     "execution_count": 72,
     "metadata": {},
     "output_type": "execute_result"
    }
   ],
   "source": [
    "print(\"Random over-sampling:\")\n",
    "df_train_over.head()"
   ]
  },
  {
   "cell_type": "code",
   "execution_count": 73,
   "metadata": {},
   "outputs": [
    {
     "data": {
      "text/plain": [
       "1    4113\n",
       "0    4113\n",
       "Name: Churn, dtype: int64"
      ]
     },
     "execution_count": 73,
     "metadata": {},
     "output_type": "execute_result"
    }
   ],
   "source": [
    "df_train_over['Churn'].value_counts()"
   ]
  },
  {
   "cell_type": "code",
   "execution_count": 74,
   "metadata": {},
   "outputs": [],
   "source": [
    "# Get all valriables"
   ]
  },
  {
   "cell_type": "code",
   "execution_count": 75,
   "metadata": {},
   "outputs": [],
   "source": [
    "y_test_bs = test_b2  ['Churn']\n",
    "X_test_bs = test_b2.drop([\"customerID\",\"Churn\"], axis = 1)\n",
    "\n",
    "y_train_bs = df_train_over[['Churn']]\n",
    "X_train_bs = df_train_over.drop([\"customerID\",\"Churn\"], axis = 1)\n"
   ]
  },
  {
   "cell_type": "code",
   "execution_count": null,
   "metadata": {},
   "outputs": [],
   "source": []
  },
  {
   "cell_type": "code",
   "execution_count": 76,
   "metadata": {},
   "outputs": [],
   "source": [
    "# XG Boost - default - multiple features = with over sampling"
   ]
  },
  {
   "cell_type": "code",
   "execution_count": 77,
   "metadata": {},
   "outputs": [
    {
     "name": "stderr",
     "output_type": "stream",
     "text": [
      "C:\\Users\\alexd\\anaconda3\\lib\\site-packages\\sklearn\\preprocessing\\_label.py:235: DataConversionWarning: A column-vector y was passed when a 1d array was expected. Please change the shape of y to (n_samples, ), for example using ravel().\n",
      "  y = column_or_1d(y, warn=True)\n",
      "C:\\Users\\alexd\\anaconda3\\lib\\site-packages\\sklearn\\preprocessing\\_label.py:268: DataConversionWarning: A column-vector y was passed when a 1d array was expected. Please change the shape of y to (n_samples, ), for example using ravel().\n",
      "  y = column_or_1d(y, warn=True)\n"
     ]
    },
    {
     "name": "stdout",
     "output_type": "stream",
     "text": [
      "XG train score  0.950158035497204\n",
      "XG test score  0.7757274662881476\n"
     ]
    }
   ],
   "source": [
    "XG_model_bs = XGBClassifier()\n",
    "XG_model_bs.fit(X_train_bs, y_train_bs)\n",
    "print(\"XG train score \", XG_model_bs.score(X_train_bs, y_train_bs))\n",
    "print(\"XG test score \", XG_model_bs.score(X_test_bs, y_test_bs))\n"
   ]
  },
  {
   "cell_type": "code",
   "execution_count": 78,
   "metadata": {},
   "outputs": [
    {
     "data": {
      "image/png": "[encoded data removed]",
      "text/plain": [
       "<Figure size 576x396 with 1 Axes>"
      ]
     },
     "metadata": {},
     "output_type": "display_data"
    }
   ],
   "source": [
    "_ = plot_importance(XG_model_bs, height=0.9)"
   ]
  },
  {
   "cell_type": "code",
   "execution_count": null,
   "metadata": {},
   "outputs": [],
   "source": []
  },
  {
   "cell_type": "markdown",
   "metadata": {},
   "source": [
    "# Model 2\n",
    "from https://xgboost.readthedocs.io/en/latest/parameter.html\n",
    "https://xgboost.readthedocs.io/en/latest/python/python_intro.html#setting-parameters\n",
    "https://www.analyticsvidhya.com/blog/2016/03/complete-guide-parameter-tuning-xgboost-with-codes-python/  is Very Good\n",
    "https://www.datacamp.com/community/tutorials/xgboost-in-python"
   ]
  },
  {
   "cell_type": "code",
   "execution_count": 79,
   "metadata": {},
   "outputs": [],
   "source": [
    "#param = {'max_depth': 2, 'eta': 1, 'objective': 'binary:logistic'}\n",
    "#param['nthread'] = 4\n",
    "#param['eval_metric'] = 'auc'"
   ]
  },
  {
   "cell_type": "code",
   "execution_count": 80,
   "metadata": {},
   "outputs": [],
   "source": [
    "params2 = {'colsample_bytree': 0.3,'learning_rate': 0.1,'max_depth': 1, 'alpha': 1 } #, 'grow_policy': 'lossguide'}"
   ]
  },
  {
   "cell_type": "code",
   "execution_count": 81,
   "metadata": {},
   "outputs": [
    {
     "name": "stdout",
     "output_type": "stream",
     "text": [
      "\u001b[1mXG_Results Results \n",
      "\u001b[0m\n",
      "XG_Results AUC Test  79.55%\n",
      "[[878 183]\n",
      " [153 195]]\n",
      "XG_Results accuracy_score_train  88.62%\n",
      "XG_Results accuracy_score_test  76.15%\n"
     ]
    }
   ],
   "source": [
    "XG_Results2= find_all(y_test_b, X_test_b ,XGBClassifier(),  X_train_b, y_train_b)\n",
    "print(color.BOLD +\"XG_Results Results \")\n",
    "print ('\\033[0m')\n",
    "\n",
    "print(\"XG_Results AUC Test  %.2f%%\" % (XG_Results2['auc']* 100.0))\n",
    "print(XG_Results2['cfm'])\n",
    "print(\"XG_Results accuracy_score_train  %.2f%%\" % (XG_Results2 ['accuracy_score_train'] * 100.0))\n",
    "print(\"XG_Results accuracy_score_test  %.2f%%\" % (XG_Results2 ['accuracy_score_test']* 100.0))"
   ]
  },
  {
   "cell_type": "markdown",
   "metadata": {},
   "source": [
    "# Now Multiple Run throughs"
   ]
  },
  {
   "cell_type": "code",
   "execution_count": 83,
   "metadata": {},
   "outputs": [
    {
     "name": "stdout",
     "output_type": "stream",
     "text": [
      "\u001b[1m  1 ) XG_Results\n",
      "\u001b[0m\n",
      " \n",
      "learning_rate 0.1\n",
      "process_type  default\n",
      "max_depth 1\n",
      "grow_policy lossguide\n",
      "tree_method auto\n",
      "colsample_bytree 0.3 colsample_bylevel 0.3 colsample_bynode 0.3\n",
      " \n",
      "XG_Results AUC Test  83.80%\n",
      "[[1009   52]\n",
      " [ 232  116]]\n",
      "XG_Results accuracy_score_train  76.89%\n",
      "XG_Results accuracy_score_test  79.84%\n",
      " \n",
      "\u001b[1m  2 ) XG_Results\n",
      "\u001b[0m\n",
      " \n",
      "learning_rate 0.2\n",
      "process_type  default\n",
      "max_depth 2\n",
      "grow_policy lossguide\n",
      "tree_method exact\n",
      "colsample_bytree 0.4 colsample_bylevel 0.4 colsample_bynode 0.4\n",
      " \n",
      "XG_Results AUC Test  84.44%\n",
      "[[941 120]\n",
      " [159 189]]\n",
      "XG_Results accuracy_score_train  79.02%\n",
      "XG_Results accuracy_score_test  80.20%\n",
      " \n",
      "\u001b[1m  3 ) XG_Results\n",
      "\u001b[0m\n",
      " \n",
      "learning_rate 0.30000000000000004\n",
      "process_type  default\n",
      "max_depth 3\n",
      "grow_policy depthwise\n",
      "tree_method approx\n",
      "colsample_bytree 0.5 colsample_bylevel 0.5 colsample_bynode 0.5\n",
      " \n",
      "XG_Results AUC Test  83.27%\n",
      "[[930 131]\n",
      " [159 189]]\n",
      "XG_Results accuracy_score_train  80.05%\n",
      "XG_Results accuracy_score_test  79.42%\n",
      " \n",
      "\u001b[1m  4 ) XG_Results\n",
      "\u001b[0m\n",
      " \n",
      "learning_rate 0.4\n",
      "process_type  default\n",
      "max_depth 4\n",
      "grow_policy depthwise\n",
      "tree_method approx\n",
      "colsample_bytree 0.6 colsample_bylevel 0.6 colsample_bynode 0.6\n",
      " \n",
      "XG_Results AUC Test  81.88%\n",
      "[[913 148]\n",
      " [157 191]]\n",
      "XG_Results accuracy_score_train  81.66%\n",
      "XG_Results accuracy_score_test  78.35%\n",
      " \n",
      "\u001b[1m  5 ) XG_Results\n",
      "\u001b[0m\n",
      " \n",
      "learning_rate 0.5\n",
      "process_type  default\n",
      "max_depth 5\n",
      "grow_policy depthwise\n",
      "tree_method approx\n",
      "colsample_bytree 0.7 colsample_bylevel 0.7 colsample_bynode 0.7\n",
      " \n",
      "XG_Results AUC Test  79.18%\n",
      "[[884 177]\n",
      " [153 195]]\n",
      "XG_Results accuracy_score_train  86.39%\n",
      "XG_Results accuracy_score_test  76.58%\n",
      " \n",
      "\u001b[1m  6 ) XG_Results\n",
      "\u001b[0m\n",
      " \n",
      "learning_rate 0.6\n",
      "process_type  default\n",
      "max_depth 6\n",
      "grow_policy depthwise\n",
      "tree_method approx\n",
      "colsample_bytree 0.7999999999999999 colsample_bylevel 0.7999999999999999 colsample_bynode 0.7999999999999999\n",
      " \n",
      "XG_Results AUC Test  77.19%\n",
      "[[862 199]\n",
      " [152 196]]\n",
      "XG_Results accuracy_score_train  90.61%\n",
      "XG_Results accuracy_score_test  75.09%\n",
      " \n"
     ]
    }
   ],
   "source": [
    "LearningRate = 0.1 \n",
    "MaxDepth = 1\n",
    "Alpha = 1\n",
    "Grow_Policy = 'lossguide'\n",
    "ColSampleByTree = 0.1\n",
    "MaximumDepth = 1 #'alpha'\n",
    "Colsample_bytree = 0.3 \n",
    "Colsample_bylevel = 0.3 \n",
    "Colsample_bynode = 0.3\n",
    "TreeMethod = 'auto'\n",
    "Process_type = 'default'\n",
    "\n",
    "\n",
    "\n",
    "for i in range(1,7,1):\n",
    "\n",
    "    XG_Results2= find_all(y_test_b, X_test_b ,XGBClassifier( learning_rate= LearningRate,process_type= Process_type, colsample_bytree= Colsample_bytree, max_depth= MaxDepth , grow_policy= Grow_Policy, colsample_bylevel= Colsample_bylevel , colsample_bynode= Colsample_bynode , tree_method= TreeMethod , verbosity = 1),  X_train_b, y_train_b)\n",
    "\n",
    "    \n",
    "    #process_type= Process_type ,\n",
    "\n",
    "    ## Below is Printing\n",
    "    print(color.BOLD +\" \", i ,\") XG_Results\")\n",
    "    print ('\\033[0m')\n",
    "    print(\" \")\n",
    "    print( \"learning_rate\",  LearningRate) \n",
    "    print(\"process_type \", Process_type)\n",
    "    print(\"max_depth\", MaxDepth)\n",
    "    print( \"grow_policy\",  Grow_Policy)\n",
    "    print(\"tree_method\",  TreeMethod)\n",
    "    print( \"colsample_bytree\", Colsample_bytree, \"colsample_bylevel\", Colsample_bylevel , \"colsample_bynode\", Colsample_bynode )\n",
    "    print(\" \")\n",
    "    print(\"XG_Results AUC Test  %.2f%%\" % (XG_Results2['auc']* 100.0))\n",
    "    print(XG_Results2['cfm'])\n",
    "    print(\"XG_Results accuracy_score_train  %.2f%%\" % (XG_Results2 ['accuracy_score_train'] * 100.0))\n",
    "    print(\"XG_Results accuracy_score_test  %.2f%%\" % (XG_Results2 ['accuracy_score_test']* 100.0))\n",
    "    print(\" \")\n",
    "    \n",
    "    # Every time we go through change values\n",
    "    LearningRate += 0.1\n",
    "    MaxDepth +=1\n",
    "    ColSampleByTree +=0.1\n",
    "    Alpha +=1\n",
    "    Colsample_bytree = Colsample_bytree +0.1\n",
    "    Colsample_bylevel = Colsample_bylevel +0.1\n",
    "    Colsample_bynode = Colsample_bynode +0.1\n",
    "    if i == 1:\n",
    "        MaximumDepth = 1\n",
    "        TreeMethod = 'exact'\n",
    "     \n",
    "    if i > 1:\n",
    "        Grow_Policy = 'depthwise'\n",
    "        MaximumDepth += 1\n",
    "        TreeMethod = 'approx'\n",
    "        Updater = 'prune'\n",
    "\n",
    "        \n"
   ]
  },
  {
   "cell_type": "code",
   "execution_count": null,
   "metadata": {},
   "outputs": [],
   "source": [
    "# Only Changing 1 variable"
   ]
  },
  {
   "cell_type": "code",
   "execution_count": 103,
   "metadata": {},
   "outputs": [
    {
     "name": "stdout",
     "output_type": "stream",
     "text": [
      "\u001b[1m  1 ) XG_Results\n",
      "\u001b[0m\n",
      " \n",
      "learning_rate 0.1\n",
      "process_type  default\n",
      "max_depth 1\n",
      "grow_policy lossguide\n",
      "tree_method auto\n",
      "colsample_bytree 0.3 colsample_bylevel 0.3 colsample_bynode 0.3\n",
      " \n",
      "XG_Results AUC Test  83.80%\n",
      "[[1009   52]\n",
      " [ 232  116]]\n",
      "XG_Results accuracy_score_train  76.89%\n",
      "XG_Results accuracy_score_test  79.84%\n",
      " \n",
      "\u001b[1m  2 ) XG_Results\n",
      "\u001b[0m\n",
      " \n",
      "learning_rate 0.2\n",
      "process_type  default\n",
      "max_depth 1\n",
      "grow_policy lossguide\n",
      "tree_method auto\n",
      "colsample_bytree 0.3 colsample_bylevel 0.3 colsample_bynode 0.3\n",
      " \n",
      "XG_Results AUC Test  84.41%\n",
      "[[956 105]\n",
      " [170 178]]\n",
      "XG_Results accuracy_score_train  78.04%\n",
      "XG_Results accuracy_score_test  80.48%\n",
      " \n",
      "\u001b[1m  3 ) XG_Results\n",
      "\u001b[0m\n",
      " \n",
      "learning_rate 0.30000000000000004\n",
      "process_type  default\n",
      "max_depth 1\n",
      "grow_policy lossguide\n",
      "tree_method auto\n",
      "colsample_bytree 0.3 colsample_bylevel 0.3 colsample_bynode 0.3\n",
      " \n",
      "XG_Results AUC Test  84.62%\n",
      "[[939 122]\n",
      " [162 186]]\n",
      "XG_Results accuracy_score_train  78.24%\n",
      "XG_Results accuracy_score_test  79.84%\n",
      " \n",
      "\u001b[1m  4 ) XG_Results\n",
      "\u001b[0m\n",
      " \n",
      "learning_rate 0.4\n",
      "process_type  default\n",
      "max_depth 1\n",
      "grow_policy lossguide\n",
      "tree_method auto\n",
      "colsample_bytree 0.3 colsample_bylevel 0.3 colsample_bynode 0.3\n",
      " \n",
      "XG_Results AUC Test  84.68%\n",
      "[[931 130]\n",
      " [158 190]]\n",
      "XG_Results accuracy_score_train  78.31%\n",
      "XG_Results accuracy_score_test  79.56%\n",
      " \n",
      "\u001b[1m  5 ) XG_Results\n",
      "\u001b[0m\n",
      " \n",
      "learning_rate 0.5\n",
      "process_type  default\n",
      "max_depth 1\n",
      "grow_policy lossguide\n",
      "tree_method auto\n",
      "colsample_bytree 0.3 colsample_bylevel 0.3 colsample_bynode 0.3\n",
      " \n",
      "XG_Results AUC Test  84.65%\n",
      "[[930 131]\n",
      " [158 190]]\n",
      "XG_Results accuracy_score_train  78.56%\n",
      "XG_Results accuracy_score_test  79.49%\n",
      " \n",
      "\u001b[1m  6 ) XG_Results\n",
      "\u001b[0m\n",
      " \n",
      "learning_rate 0.6\n",
      "process_type  default\n",
      "max_depth 1\n",
      "grow_policy lossguide\n",
      "tree_method auto\n",
      "colsample_bytree 0.3 colsample_bylevel 0.3 colsample_bynode 0.3\n",
      " \n",
      "XG_Results AUC Test  84.59%\n",
      "[[933 128]\n",
      " [158 190]]\n",
      "XG_Results accuracy_score_train  78.58%\n",
      "XG_Results accuracy_score_test  79.70%\n",
      " \n"
     ]
    }
   ],
   "source": [
    "LearningRate = 0.1 \n",
    "MaxDepth = 1\n",
    "Alpha = 1\n",
    "Grow_Policy = 'lossguide'\n",
    "ColSampleByTree = 0.1\n",
    "MaximumDepth = 1 #'alpha'\n",
    "Colsample_bytree = 0.3 \n",
    "Colsample_bylevel = 0.3 \n",
    "Colsample_bynode = 0.3\n",
    "TreeMethod = 'auto'\n",
    "Process_type = 'default'\n",
    "\n",
    "\n",
    "\n",
    "for i in range(1,7,1):\n",
    "\n",
    "    XG_Results2= find_all(y_test_b, X_test_b ,XGBClassifier( learning_rate= LearningRate,process_type= Process_type,  colsample_bytree= Colsample_bytree, max_depth= MaxDepth , grow_policy= Grow_Policy, colsample_bylevel= Colsample_bylevel , colsample_bynode= Colsample_bynode , tree_method= TreeMethod , verbosity = 1),  X_train_b, y_train_b)\n",
    "\n",
    "    \n",
    "    #process_type= Process_type ,\n",
    "\n",
    "    ## Below is Printing\n",
    "    print(color.BOLD +\" \", i ,\") XG_Results\")\n",
    "    print ('\\033[0m')\n",
    "    print(\" \")\n",
    "    print( \"learning_rate\",  LearningRate) \n",
    "    print(\"process_type \", Process_type)\n",
    "    print(\"max_depth\", MaxDepth)\n",
    "    print( \"grow_policy\",  Grow_Policy)\n",
    "    print(\"tree_method\",  TreeMethod)\n",
    "    print( \"colsample_bytree\", Colsample_bytree, \"colsample_bylevel\", Colsample_bylevel , \"colsample_bynode\", Colsample_bynode )\n",
    "    print(\" \")\n",
    "    print(\"XG_Results AUC Test  %.2f%%\" % (XG_Results2['auc']* 100.0))\n",
    "    print(XG_Results2['cfm'])\n",
    "    print(\"XG_Results accuracy_score_train  %.2f%%\" % (XG_Results2 ['accuracy_score_train'] * 100.0))\n",
    "    print(\"XG_Results accuracy_score_test  %.2f%%\" % (XG_Results2 ['accuracy_score_test']* 100.0))\n",
    "    print(\" \")\n",
    "    \n",
    "    # Every time we go through change values\n",
    "    LearningRate += 0.1\n",
    "    #MaxDepth +=1\n",
    "    #ColSampleByTree +=0.1\n",
    "    #Alpha +=1\n",
    "    #Colsample_bytree = Colsample_bytree +0.1\n",
    "    #Colsample_bylevel = Colsample_bylevel +0.1\n",
    "    #Colsample_bynode = Colsample_bynode +0.1\n",
    "    if i == 1:\n",
    "        irrelevant = 1\n",
    "    #    MaximumDepth = 1\n",
    "    #    TreeMethod = 'exact'\n",
    "     \n",
    "    if i > 1:\n",
    "        irrelevant = 2\n",
    "     #   Grow_Policy = 'depthwise'\n",
    "     #   MaximumDepth += 1\n",
    "     #   TreeMethod = 'approx'\n",
    "     #   Updater = 'prune'\n",
    "\n",
    "        \n"
   ]
  },
  {
   "cell_type": "markdown",
   "metadata": {},
   "source": [
    "# One Run Through Only"
   ]
  },
  {
   "cell_type": "code",
   "execution_count": 85,
   "metadata": {},
   "outputs": [],
   "source": [
    "XG_model2 = XGBClassifier(colsample_bytree= 0.5, learning_rate= 0.1, max_depth= 2, grow_policy= 'depthwise', colsample_bylevel= 0.3, colsample_bynode= 0.6, tree_method= 'approx',  process_type= 'default', verbosity = 1)"
   ]
  },
  {
   "cell_type": "code",
   "execution_count": 86,
   "metadata": {},
   "outputs": [
    {
     "data": {
      "text/plain": [
       "XGBClassifier(base_score=0.5, booster='gbtree', colsample_bylevel=0.3,\n",
       "              colsample_bynode=0.6, colsample_bytree=0.5, gamma=0, gpu_id=-1,\n",
       "              grow_policy='depthwise', importance_type='gain',\n",
       "              interaction_constraints='', learning_rate=0.1, max_delta_step=0,\n",
       "              max_depth=2, min_child_weight=1, missing=nan,\n",
       "              monotone_constraints='()', n_estimators=100, n_jobs=0,\n",
       "              num_parallel_tree=1, objective='binary:logistic',\n",
       "              process_type='default', random_state=0, reg_alpha=0, reg_lambda=1,\n",
       "              scale_pos_weight=1, subsample=1, tree_method='approx',\n",
       "              validate_parameters=1, verbosity=1)"
      ]
     },
     "execution_count": 86,
     "metadata": {},
     "output_type": "execute_result"
    }
   ],
   "source": [
    "XG_model2.fit(X_train_b, y_train_b)"
   ]
  },
  {
   "cell_type": "code",
   "execution_count": 87,
   "metadata": {},
   "outputs": [
    {
     "name": "stdout",
     "output_type": "stream",
     "text": [
      "XG train score  0.7891373801916933\n",
      "XG test score  0.7963094393186657\n"
     ]
    }
   ],
   "source": [
    "print(\"XG train score \", XG_model2.score(X_train_b, y_train_b))\n",
    "print(\"XG test score \", XG_model2.score(X_test_b, y_test_b))"
   ]
  },
  {
   "cell_type": "code",
   "execution_count": 88,
   "metadata": {},
   "outputs": [],
   "source": [
    "XG_preds_prob = XG_model2.predict_proba(X_test_b)\n",
    "XG_preds = XG_model2.predict(X_test_b)"
   ]
  },
  {
   "cell_type": "code",
   "execution_count": 89,
   "metadata": {},
   "outputs": [],
   "source": [
    "Predictions= XG_preds_prob[:,1]"
   ]
  },
  {
   "cell_type": "code",
   "execution_count": 90,
   "metadata": {},
   "outputs": [],
   "source": [
    "cf = confusion_matrix(y_test_b, XG_preds)"
   ]
  },
  {
   "cell_type": "code",
   "execution_count": 91,
   "metadata": {},
   "outputs": [],
   "source": [
    "fpr, tpr, thresholds  = metrics.roc_curve(y_test_b, Predictions)"
   ]
  },
  {
   "cell_type": "code",
   "execution_count": 92,
   "metadata": {},
   "outputs": [],
   "source": [
    "roc_auc = metrics.auc(fpr, tpr)"
   ]
  },
  {
   "cell_type": "code",
   "execution_count": 93,
   "metadata": {},
   "outputs": [
    {
     "name": "stdout",
     "output_type": "stream",
     "text": [
      "0.8415938119535896\n"
     ]
    }
   ],
   "source": [
    "print(roc_auc)"
   ]
  },
  {
   "cell_type": "code",
   "execution_count": 94,
   "metadata": {},
   "outputs": [
    {
     "name": "stdout",
     "output_type": "stream",
     "text": [
      "XG_Results AUC Test 0.8415938119535896\n",
      "[[933 128]\n",
      " [158 190]]\n",
      "XG_Results accuracy_score_train  0.7891373801916933\n",
      "XG_Results accuracy_score_test 0.7963094393186657\n"
     ]
    }
   ],
   "source": [
    "print(\"XG_Results AUC Test\" , roc_auc )\n",
    "print(XG_Results2['cfm'])\n",
    "print(\"XG_Results accuracy_score_train \" ,XG_model2.score(X_train_b, y_train_b))\n",
    "print(\"XG_Results accuracy_score_test\" , XG_model2.score(X_test_b, y_test_b))"
   ]
  },
  {
   "cell_type": "code",
   "execution_count": 95,
   "metadata": {},
   "outputs": [],
   "source": [
    "#UP TO HERE DONE BY FUNCTION"
   ]
  },
  {
   "cell_type": "code",
   "execution_count": 96,
   "metadata": {},
   "outputs": [
    {
     "data": {
      "image/png": "[encoded data removed]",
      "text/plain": [
       "<Figure size 576x396 with 1 Axes>"
      ]
     },
     "metadata": {},
     "output_type": "display_data"
    }
   ],
   "source": [
    "_ = plot_importance(XG_model2, height=0.9)"
   ]
  },
  {
   "cell_type": "code",
   "execution_count": 97,
   "metadata": {},
   "outputs": [
    {
     "data": {
      "text/plain": [
       "[<matplotlib.lines.Line2D at 0x2ab6a147ac8>]"
      ]
     },
     "execution_count": 97,
     "metadata": {},
     "output_type": "execute_result"
    },
    {
     "data": {
      "image/png": "[encoded data removed]",
      "text/plain": [
       "<Figure size 576x396 with 1 Axes>"
      ]
     },
     "metadata": {},
     "output_type": "display_data"
    }
   ],
   "source": [
    "plt.plot(Predictions)"
   ]
  },
  {
   "cell_type": "markdown",
   "metadata": {},
   "source": [
    "# Grid search or CV"
   ]
  },
  {
   "cell_type": "code",
   "execution_count": 98,
   "metadata": {},
   "outputs": [],
   "source": [
    "from sklearn.model_selection import GridSearchCV"
   ]
  },
  {
   "cell_type": "code",
   "execution_count": 99,
   "metadata": {},
   "outputs": [],
   "source": [
    "xgb_modecv = XGBClassifier()"
   ]
  },
  {
   "cell_type": "code",
   "execution_count": 100,
   "metadata": {},
   "outputs": [],
   "source": [
    "test_params = {\n",
    " 'max_depth':[2,4,8,12]\n",
    "}\n"
   ]
  },
  {
   "cell_type": "code",
   "execution_count": 101,
   "metadata": {},
   "outputs": [],
   "source": [
    "model = GridSearchCV(estimator = xgb_modecv,param_grid = test_params)"
   ]
  },
  {
   "cell_type": "code",
   "execution_count": 102,
   "metadata": {},
   "outputs": [
    {
     "name": "stderr",
     "output_type": "stream",
     "text": [
      "C:\\Users\\alexd\\anaconda3\\lib\\site-packages\\sklearn\\preprocessing\\_label.py:235: DataConversionWarning: A column-vector y was passed when a 1d array was expected. Please change the shape of y to (n_samples, ), for example using ravel().\n",
      "  y = column_or_1d(y, warn=True)\n",
      "C:\\Users\\alexd\\anaconda3\\lib\\site-packages\\sklearn\\preprocessing\\_label.py:268: DataConversionWarning: A column-vector y was passed when a 1d array was expected. Please change the shape of y to (n_samples, ), for example using ravel().\n",
      "  y = column_or_1d(y, warn=True)\n"
     ]
    },
    {
     "data": {
      "text/plain": [
       "GridSearchCV(cv=None, error_score=nan,\n",
       "             estimator=XGBClassifier(base_score=None, booster=None,\n",
       "                                     colsample_bylevel=None,\n",
       "                                     colsample_bynode=None,\n",
       "                                     colsample_bytree=None, gamma=None,\n",
       "                                     gpu_id=None, importance_type='gain',\n",
       "                                     interaction_constraints=None,\n",
       "                                     learning_rate=None, max_delta_step=None,\n",
       "                                     max_depth=None, min_child_weight=None,\n",
       "                                     missing=nan, monotone_constraints=None,\n",
       "                                     n_es...s=None,\n",
       "                                     num_parallel_tree=None,\n",
       "                                     objective='binary:logistic',\n",
       "                                     random_state=None, reg_alpha=None,\n",
       "                                     reg_lambda=None, scale_pos_weight=None,\n",
       "                                     subsample=None, tree_method=None,\n",
       "                                     validate_parameters=None, verbosity=None),\n",
       "             iid='deprecated', n_jobs=None,\n",
       "             param_grid={'max_depth': [2, 4, 8, 12]}, pre_dispatch='2*n_jobs',\n",
       "             refit=True, return_train_score=False, scoring=None, verbose=0)"
      ]
     },
     "execution_count": 102,
     "metadata": {},
     "output_type": "execute_result"
    }
   ],
   "source": [
    "model.fit(X_train_b,y_train_b)\n"
   ]
  },
  {
   "cell_type": "code",
   "execution_count": 104,
   "metadata": {},
   "outputs": [
    {
     "name": "stdout",
     "output_type": "stream",
     "text": [
      "{'max_depth': 2}\n"
     ]
    }
   ],
   "source": [
    "print (model.best_params_)"
   ]
  },
  {
   "cell_type": "code",
   "execution_count": null,
   "metadata": {},
   "outputs": [],
   "source": []
  }
 ],
 "metadata": {
  "colab": {
   "collapsed_sections": [],
   "name": "IOD_Lab 4.1.1.ipynb",
   "provenance": []
  },
  "kernelspec": {
   "display_name": "Python 3",
   "language": "python",
   "name": "python3"
  },
  "language_info": {
   "codemirror_mode": {
    "name": "ipython",
    "version": 3
   },
   "file_extension": ".py",
   "mimetype": "text/x-python",
   "name": "python",
   "nbconvert_exporter": "python",
   "pygments_lexer": "ipython3",
   "version": "3.7.6"
  }
 },
 "nbformat": 4,
 "nbformat_minor": 1
}
